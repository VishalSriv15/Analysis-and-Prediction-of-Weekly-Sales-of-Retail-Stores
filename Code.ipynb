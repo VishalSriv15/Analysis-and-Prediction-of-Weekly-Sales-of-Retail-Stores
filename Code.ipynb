{
  "nbformat": 4,
  "nbformat_minor": 0,
  "metadata": {
    "colab": {
      "name": "Course Project.ipynb",
      "provenance": [],
      "collapsed_sections": []
    },
    "kernelspec": {
      "display_name": "Python 3",
      "name": "python3"
    }
  },
  "cells": [
    {
      "cell_type": "code",
      "metadata": {
        "colab": {
          "base_uri": "https://localhost:8080/"
        },
        "id": "-xouPn_Itbd3",
        "outputId": "7bdcb2d0-6b90-4c41-dbd4-76ec30b28c6e"
      },
      "source": [
        "from google.colab import drive\n",
        "drive.mount('/content/drive')"
      ],
      "execution_count": null,
      "outputs": [
        {
          "output_type": "stream",
          "text": [
            "Mounted at /content/drive\n"
          ],
          "name": "stdout"
        }
      ]
    },
    {
      "cell_type": "code",
      "metadata": {
        "id": "vMDLAJ9Rt0fj"
      },
      "source": [
        "#importing various python libraries\n",
        "import pandas as pd\n",
        "import matplotlib.pyplot as plt\n",
        "import seaborn as sns\n",
        "import numpy as np\n",
        "from matplotlib.pyplot import figure"
      ],
      "execution_count": null,
      "outputs": []
    },
    {
      "cell_type": "code",
      "metadata": {
        "id": "jcxyi6klvNU-"
      },
      "source": [
        "#loading the datasets into dataframes\n",
        "features = pd.read_csv('/content/drive/MyDrive/Datasets/Store-Sales-Features/Features data set.csv')\n",
        "store = pd.read_csv('/content/drive/MyDrive/Datasets/Store-Sales-Features/stores data-set.csv')\n",
        "sales = pd.read_csv('/content/drive/MyDrive/Datasets/Store-Sales-Features/sales data-set.csv')"
      ],
      "execution_count": null,
      "outputs": []
    },
    {
      "cell_type": "code",
      "metadata": {
        "colab": {
          "base_uri": "https://localhost:8080/",
          "height": 195
        },
        "id": "hd6qRw2eQQWq",
        "outputId": "169a3a92-ef86-47e1-ffe2-dbd2562dae8f"
      },
      "source": [
        "features.head() #the first 5 records in Features Dataset"
      ],
      "execution_count": null,
      "outputs": [
        {
          "output_type": "execute_result",
          "data": {
            "text/html": [
              "<div>\n",
              "<style scoped>\n",
              "    .dataframe tbody tr th:only-of-type {\n",
              "        vertical-align: middle;\n",
              "    }\n",
              "\n",
              "    .dataframe tbody tr th {\n",
              "        vertical-align: top;\n",
              "    }\n",
              "\n",
              "    .dataframe thead th {\n",
              "        text-align: right;\n",
              "    }\n",
              "</style>\n",
              "<table border=\"1\" class=\"dataframe\">\n",
              "  <thead>\n",
              "    <tr style=\"text-align: right;\">\n",
              "      <th></th>\n",
              "      <th>Store</th>\n",
              "      <th>Date</th>\n",
              "      <th>Temperature</th>\n",
              "      <th>Fuel_Price</th>\n",
              "      <th>MarkDown1</th>\n",
              "      <th>MarkDown2</th>\n",
              "      <th>MarkDown3</th>\n",
              "      <th>MarkDown4</th>\n",
              "      <th>MarkDown5</th>\n",
              "      <th>CPI</th>\n",
              "      <th>Unemployment</th>\n",
              "      <th>IsHoliday</th>\n",
              "    </tr>\n",
              "  </thead>\n",
              "  <tbody>\n",
              "    <tr>\n",
              "      <th>0</th>\n",
              "      <td>1</td>\n",
              "      <td>05/02/2010</td>\n",
              "      <td>42.31</td>\n",
              "      <td>2.572</td>\n",
              "      <td>NaN</td>\n",
              "      <td>NaN</td>\n",
              "      <td>NaN</td>\n",
              "      <td>NaN</td>\n",
              "      <td>NaN</td>\n",
              "      <td>211.096358</td>\n",
              "      <td>8.106</td>\n",
              "      <td>False</td>\n",
              "    </tr>\n",
              "    <tr>\n",
              "      <th>1</th>\n",
              "      <td>1</td>\n",
              "      <td>12/02/2010</td>\n",
              "      <td>38.51</td>\n",
              "      <td>2.548</td>\n",
              "      <td>NaN</td>\n",
              "      <td>NaN</td>\n",
              "      <td>NaN</td>\n",
              "      <td>NaN</td>\n",
              "      <td>NaN</td>\n",
              "      <td>211.242170</td>\n",
              "      <td>8.106</td>\n",
              "      <td>True</td>\n",
              "    </tr>\n",
              "    <tr>\n",
              "      <th>2</th>\n",
              "      <td>1</td>\n",
              "      <td>19/02/2010</td>\n",
              "      <td>39.93</td>\n",
              "      <td>2.514</td>\n",
              "      <td>NaN</td>\n",
              "      <td>NaN</td>\n",
              "      <td>NaN</td>\n",
              "      <td>NaN</td>\n",
              "      <td>NaN</td>\n",
              "      <td>211.289143</td>\n",
              "      <td>8.106</td>\n",
              "      <td>False</td>\n",
              "    </tr>\n",
              "    <tr>\n",
              "      <th>3</th>\n",
              "      <td>1</td>\n",
              "      <td>26/02/2010</td>\n",
              "      <td>46.63</td>\n",
              "      <td>2.561</td>\n",
              "      <td>NaN</td>\n",
              "      <td>NaN</td>\n",
              "      <td>NaN</td>\n",
              "      <td>NaN</td>\n",
              "      <td>NaN</td>\n",
              "      <td>211.319643</td>\n",
              "      <td>8.106</td>\n",
              "      <td>False</td>\n",
              "    </tr>\n",
              "    <tr>\n",
              "      <th>4</th>\n",
              "      <td>1</td>\n",
              "      <td>05/03/2010</td>\n",
              "      <td>46.50</td>\n",
              "      <td>2.625</td>\n",
              "      <td>NaN</td>\n",
              "      <td>NaN</td>\n",
              "      <td>NaN</td>\n",
              "      <td>NaN</td>\n",
              "      <td>NaN</td>\n",
              "      <td>211.350143</td>\n",
              "      <td>8.106</td>\n",
              "      <td>False</td>\n",
              "    </tr>\n",
              "  </tbody>\n",
              "</table>\n",
              "</div>"
            ],
            "text/plain": [
              "   Store        Date  Temperature  ...         CPI  Unemployment  IsHoliday\n",
              "0      1  05/02/2010        42.31  ...  211.096358         8.106      False\n",
              "1      1  12/02/2010        38.51  ...  211.242170         8.106       True\n",
              "2      1  19/02/2010        39.93  ...  211.289143         8.106      False\n",
              "3      1  26/02/2010        46.63  ...  211.319643         8.106      False\n",
              "4      1  05/03/2010        46.50  ...  211.350143         8.106      False\n",
              "\n",
              "[5 rows x 12 columns]"
            ]
          },
          "metadata": {
            "tags": []
          },
          "execution_count": 5
        }
      ]
    },
    {
      "cell_type": "code",
      "metadata": {
        "colab": {
          "base_uri": "https://localhost:8080/",
          "height": 195
        },
        "id": "k7yNUYtHQRxU",
        "outputId": "07004680-be9d-4f92-bca3-a712d912ecce"
      },
      "source": [
        "store.head()#the first 5 records in Stores Dataset"
      ],
      "execution_count": null,
      "outputs": [
        {
          "output_type": "execute_result",
          "data": {
            "text/html": [
              "<div>\n",
              "<style scoped>\n",
              "    .dataframe tbody tr th:only-of-type {\n",
              "        vertical-align: middle;\n",
              "    }\n",
              "\n",
              "    .dataframe tbody tr th {\n",
              "        vertical-align: top;\n",
              "    }\n",
              "\n",
              "    .dataframe thead th {\n",
              "        text-align: right;\n",
              "    }\n",
              "</style>\n",
              "<table border=\"1\" class=\"dataframe\">\n",
              "  <thead>\n",
              "    <tr style=\"text-align: right;\">\n",
              "      <th></th>\n",
              "      <th>Store</th>\n",
              "      <th>Type</th>\n",
              "      <th>Size</th>\n",
              "    </tr>\n",
              "  </thead>\n",
              "  <tbody>\n",
              "    <tr>\n",
              "      <th>0</th>\n",
              "      <td>1</td>\n",
              "      <td>A</td>\n",
              "      <td>151315</td>\n",
              "    </tr>\n",
              "    <tr>\n",
              "      <th>1</th>\n",
              "      <td>2</td>\n",
              "      <td>A</td>\n",
              "      <td>202307</td>\n",
              "    </tr>\n",
              "    <tr>\n",
              "      <th>2</th>\n",
              "      <td>3</td>\n",
              "      <td>B</td>\n",
              "      <td>37392</td>\n",
              "    </tr>\n",
              "    <tr>\n",
              "      <th>3</th>\n",
              "      <td>4</td>\n",
              "      <td>A</td>\n",
              "      <td>205863</td>\n",
              "    </tr>\n",
              "    <tr>\n",
              "      <th>4</th>\n",
              "      <td>5</td>\n",
              "      <td>B</td>\n",
              "      <td>34875</td>\n",
              "    </tr>\n",
              "  </tbody>\n",
              "</table>\n",
              "</div>"
            ],
            "text/plain": [
              "   Store Type    Size\n",
              "0      1    A  151315\n",
              "1      2    A  202307\n",
              "2      3    B   37392\n",
              "3      4    A  205863\n",
              "4      5    B   34875"
            ]
          },
          "metadata": {
            "tags": []
          },
          "execution_count": 6
        }
      ]
    },
    {
      "cell_type": "code",
      "metadata": {
        "colab": {
          "base_uri": "https://localhost:8080/",
          "height": 195
        },
        "id": "6LUAvCkkQWE8",
        "outputId": "4e615a1a-93aa-428b-d9e2-57b5424f7a0b"
      },
      "source": [
        "sales.head()#the first 5 records in Sales Dataset"
      ],
      "execution_count": null,
      "outputs": [
        {
          "output_type": "execute_result",
          "data": {
            "text/html": [
              "<div>\n",
              "<style scoped>\n",
              "    .dataframe tbody tr th:only-of-type {\n",
              "        vertical-align: middle;\n",
              "    }\n",
              "\n",
              "    .dataframe tbody tr th {\n",
              "        vertical-align: top;\n",
              "    }\n",
              "\n",
              "    .dataframe thead th {\n",
              "        text-align: right;\n",
              "    }\n",
              "</style>\n",
              "<table border=\"1\" class=\"dataframe\">\n",
              "  <thead>\n",
              "    <tr style=\"text-align: right;\">\n",
              "      <th></th>\n",
              "      <th>Store</th>\n",
              "      <th>Dept</th>\n",
              "      <th>Date</th>\n",
              "      <th>Weekly_Sales</th>\n",
              "      <th>IsHoliday</th>\n",
              "    </tr>\n",
              "  </thead>\n",
              "  <tbody>\n",
              "    <tr>\n",
              "      <th>0</th>\n",
              "      <td>1</td>\n",
              "      <td>1</td>\n",
              "      <td>05/02/2010</td>\n",
              "      <td>24924.50</td>\n",
              "      <td>False</td>\n",
              "    </tr>\n",
              "    <tr>\n",
              "      <th>1</th>\n",
              "      <td>1</td>\n",
              "      <td>1</td>\n",
              "      <td>12/02/2010</td>\n",
              "      <td>46039.49</td>\n",
              "      <td>True</td>\n",
              "    </tr>\n",
              "    <tr>\n",
              "      <th>2</th>\n",
              "      <td>1</td>\n",
              "      <td>1</td>\n",
              "      <td>19/02/2010</td>\n",
              "      <td>41595.55</td>\n",
              "      <td>False</td>\n",
              "    </tr>\n",
              "    <tr>\n",
              "      <th>3</th>\n",
              "      <td>1</td>\n",
              "      <td>1</td>\n",
              "      <td>26/02/2010</td>\n",
              "      <td>19403.54</td>\n",
              "      <td>False</td>\n",
              "    </tr>\n",
              "    <tr>\n",
              "      <th>4</th>\n",
              "      <td>1</td>\n",
              "      <td>1</td>\n",
              "      <td>05/03/2010</td>\n",
              "      <td>21827.90</td>\n",
              "      <td>False</td>\n",
              "    </tr>\n",
              "  </tbody>\n",
              "</table>\n",
              "</div>"
            ],
            "text/plain": [
              "   Store  Dept        Date  Weekly_Sales  IsHoliday\n",
              "0      1     1  05/02/2010      24924.50      False\n",
              "1      1     1  12/02/2010      46039.49       True\n",
              "2      1     1  19/02/2010      41595.55      False\n",
              "3      1     1  26/02/2010      19403.54      False\n",
              "4      1     1  05/03/2010      21827.90      False"
            ]
          },
          "metadata": {
            "tags": []
          },
          "execution_count": 7
        }
      ]
    },
    {
      "cell_type": "code",
      "metadata": {
        "colab": {
          "base_uri": "https://localhost:8080/"
        },
        "id": "ECiJlg3UQZKU",
        "outputId": "df2a57d7-9cbc-4a3d-a487-70ab8318e623"
      },
      "source": [
        "#printing types of variables and number of unique values\n",
        "for df,name in zip([features,store,sales],['Features','Store','Sales']):\n",
        "  print(f'{name}-:')\n",
        "  print(\"Number of records: \"+str(df.shape[0]))\n",
        "  print(\"Number of variables:\",df.shape[1])\n",
        "  for column in df.columns:\n",
        "    Unique_list=pd.unique(df[column])\n",
        "    print(f\"{column} is of type- \"+str(df[column].dtypes)+f\". It has {len(Unique_list)} unique values and {np.sum(pd.isnull(df[column]))} missing values\")\n",
        "  print('\\n\\n')"
      ],
      "execution_count": null,
      "outputs": [
        {
          "output_type": "stream",
          "text": [
            "Features-:\n",
            "Number of records: 8190\n",
            "Number of variables: 12\n",
            "Store is of type- int64. It has 45 unique values and 0 missing values\n",
            "Date is of type- object. It has 182 unique values and 0 missing values\n",
            "Temperature is of type- float64. It has 4178 unique values and 0 missing values\n",
            "Fuel_Price is of type- float64. It has 1011 unique values and 0 missing values\n",
            "MarkDown1 is of type- float64. It has 4024 unique values and 4158 missing values\n",
            "MarkDown2 is of type- float64. It has 2716 unique values and 5269 missing values\n",
            "MarkDown3 is of type- float64. It has 2886 unique values and 4577 missing values\n",
            "MarkDown4 is of type- float64. It has 3406 unique values and 4726 missing values\n",
            "MarkDown5 is of type- float64. It has 4046 unique values and 4140 missing values\n",
            "CPI is of type- float64. It has 2506 unique values and 585 missing values\n",
            "Unemployment is of type- float64. It has 405 unique values and 585 missing values\n",
            "IsHoliday is of type- bool. It has 2 unique values and 0 missing values\n",
            "\n",
            "\n",
            "\n",
            "Store-:\n",
            "Number of records: 45\n",
            "Number of variables: 3\n",
            "Store is of type- int64. It has 45 unique values and 0 missing values\n",
            "Type is of type- object. It has 3 unique values and 0 missing values\n",
            "Size is of type- int64. It has 40 unique values and 0 missing values\n",
            "\n",
            "\n",
            "\n",
            "Sales-:\n",
            "Number of records: 421570\n",
            "Number of variables: 5\n",
            "Store is of type- int64. It has 45 unique values and 0 missing values\n",
            "Dept is of type- int64. It has 81 unique values and 0 missing values\n",
            "Date is of type- object. It has 143 unique values and 0 missing values\n",
            "Weekly_Sales is of type- float64. It has 359464 unique values and 0 missing values\n",
            "IsHoliday is of type- bool. It has 2 unique values and 0 missing values\n",
            "\n",
            "\n",
            "\n"
          ],
          "name": "stdout"
        }
      ]
    },
    {
      "cell_type": "code",
      "metadata": {
        "colab": {
          "base_uri": "https://localhost:8080/"
        },
        "id": "e9nXUoBwsq0S",
        "outputId": "dcafdf8b-6513-4f8c-9ae7-302210f8273c"
      },
      "source": [
        "#obtaining the unique values of each variable in the datasets\r\n",
        "for df,name in zip([features,store,sales],['Features','Store','Sales']):\r\n",
        "  print(f'{name}-:')\r\n",
        "  for column in df.columns:\r\n",
        "    print(f\"{column}'s unique elements:\\n{df[column].unique()}\")\r\n",
        "  print('\\n\\n')"
      ],
      "execution_count": null,
      "outputs": [
        {
          "output_type": "stream",
          "text": [
            "Features-:\n",
            "Store's unique elements:\n",
            "[ 1  2  3  4  5  6  7  8  9 10 11 12 13 14 15 16 17 18 19 20 21 22 23 24\n",
            " 25 26 27 28 29 30 31 32 33 34 35 36 37 38 39 40 41 42 43 44 45]\n",
            "Date's unique elements:\n",
            "['05/02/2010' '12/02/2010' '19/02/2010' '26/02/2010' '05/03/2010'\n",
            " '12/03/2010' '19/03/2010' '26/03/2010' '02/04/2010' '09/04/2010'\n",
            " '16/04/2010' '23/04/2010' '30/04/2010' '07/05/2010' '14/05/2010'\n",
            " '21/05/2010' '28/05/2010' '04/06/2010' '11/06/2010' '18/06/2010'\n",
            " '25/06/2010' '02/07/2010' '09/07/2010' '16/07/2010' '23/07/2010'\n",
            " '30/07/2010' '06/08/2010' '13/08/2010' '20/08/2010' '27/08/2010'\n",
            " '03/09/2010' '10/09/2010' '17/09/2010' '24/09/2010' '01/10/2010'\n",
            " '08/10/2010' '15/10/2010' '22/10/2010' '29/10/2010' '05/11/2010'\n",
            " '12/11/2010' '19/11/2010' '26/11/2010' '03/12/2010' '10/12/2010'\n",
            " '17/12/2010' '24/12/2010' '31/12/2010' '07/01/2011' '14/01/2011'\n",
            " '21/01/2011' '28/01/2011' '04/02/2011' '11/02/2011' '18/02/2011'\n",
            " '25/02/2011' '04/03/2011' '11/03/2011' '18/03/2011' '25/03/2011'\n",
            " '01/04/2011' '08/04/2011' '15/04/2011' '22/04/2011' '29/04/2011'\n",
            " '06/05/2011' '13/05/2011' '20/05/2011' '27/05/2011' '03/06/2011'\n",
            " '10/06/2011' '17/06/2011' '24/06/2011' '01/07/2011' '08/07/2011'\n",
            " '15/07/2011' '22/07/2011' '29/07/2011' '05/08/2011' '12/08/2011'\n",
            " '19/08/2011' '26/08/2011' '02/09/2011' '09/09/2011' '16/09/2011'\n",
            " '23/09/2011' '30/09/2011' '07/10/2011' '14/10/2011' '21/10/2011'\n",
            " '28/10/2011' '04/11/2011' '11/11/2011' '18/11/2011' '25/11/2011'\n",
            " '02/12/2011' '09/12/2011' '16/12/2011' '23/12/2011' '30/12/2011'\n",
            " '06/01/2012' '13/01/2012' '20/01/2012' '27/01/2012' '03/02/2012'\n",
            " '10/02/2012' '17/02/2012' '24/02/2012' '02/03/2012' '09/03/2012'\n",
            " '16/03/2012' '23/03/2012' '30/03/2012' '06/04/2012' '13/04/2012'\n",
            " '20/04/2012' '27/04/2012' '04/05/2012' '11/05/2012' '18/05/2012'\n",
            " '25/05/2012' '01/06/2012' '08/06/2012' '15/06/2012' '22/06/2012'\n",
            " '29/06/2012' '06/07/2012' '13/07/2012' '20/07/2012' '27/07/2012'\n",
            " '03/08/2012' '10/08/2012' '17/08/2012' '24/08/2012' '31/08/2012'\n",
            " '07/09/2012' '14/09/2012' '21/09/2012' '28/09/2012' '05/10/2012'\n",
            " '12/10/2012' '19/10/2012' '26/10/2012' '02/11/2012' '09/11/2012'\n",
            " '16/11/2012' '23/11/2012' '30/11/2012' '07/12/2012' '14/12/2012'\n",
            " '21/12/2012' '28/12/2012' '04/01/2013' '11/01/2013' '18/01/2013'\n",
            " '25/01/2013' '01/02/2013' '08/02/2013' '15/02/2013' '22/02/2013'\n",
            " '01/03/2013' '08/03/2013' '15/03/2013' '22/03/2013' '29/03/2013'\n",
            " '05/04/2013' '12/04/2013' '19/04/2013' '26/04/2013' '03/05/2013'\n",
            " '10/05/2013' '17/05/2013' '24/05/2013' '31/05/2013' '07/06/2013'\n",
            " '14/06/2013' '21/06/2013' '28/06/2013' '05/07/2013' '12/07/2013'\n",
            " '19/07/2013' '26/07/2013']\n",
            "Temperature's unique elements:\n",
            "[42.31 38.51 39.93 ... 81.7  77.59 79.13]\n",
            "Fuel_Price's unique elements:\n",
            "[2.572 2.548 2.514 ... 3.412 3.387 3.507]\n",
            "MarkDown1's unique elements:\n",
            "[     nan 10382.9   6074.12 ...  3789.94  2961.49   212.02]\n",
            "MarkDown2's unique elements:\n",
            "[    nan 6115.67  254.39 ... 1827.31 1047.07  851.73]\n",
            "MarkDown3's unique elements:\n",
            "[   nan 215.07  51.98 ...  85.72 204.19   2.06]\n",
            "MarkDown4's unique elements:\n",
            "[    nan 2406.62  427.39 ...  744.84  363.     10.88]\n",
            "MarkDown5's unique elements:\n",
            "[    nan 6551.42 5988.57 ... 2150.36 1059.46 1864.57]\n",
            "CPI's unique elements:\n",
            "[211.0963582 211.2421698 211.2891429 ... 216.2828641 216.3629608\n",
            " 216.4430576]\n",
            "Unemployment's unique elements:\n",
            "[ 8.106  7.808  7.787  7.838  7.742  7.682  7.962  7.866  7.348  7.143\n",
            "  6.908  6.573  6.525  6.314    nan  8.324  8.2    8.099  8.163  8.028\n",
            "  7.931  7.852  7.441  7.057  6.891  6.565  6.17   6.237  6.112  7.368\n",
            "  7.343  7.346  7.564  7.551  7.574  7.567  7.197  6.833  6.664  6.334\n",
            "  6.034  6.108  5.999  8.623  7.896  7.372  7.127  6.51   5.946  5.644\n",
            "  5.143  4.607  4.308  4.077  3.879  3.921  3.896  6.566  6.465  6.496\n",
            "  6.768  6.634  6.489  6.529  6.3    5.943  5.801  5.603  5.422  5.494\n",
            "  5.278  7.259  7.092  6.973  7.007  6.858  6.855  6.925  6.551  6.132\n",
            "  5.964  5.668  5.329  5.372  5.285  9.014  8.963  9.017  9.137  8.818\n",
            "  8.595  8.622  8.513  8.256  8.09   7.872  7.557  7.107  6.953  6.299\n",
            "  6.29   6.315  6.433  6.262  6.297  6.425  6.123  5.825  5.679  5.401\n",
            "  5.124  5.212  5.024  6.415  6.384  6.442  6.56   6.416  6.38   6.404\n",
            "  6.054  5.667  5.539  5.277  4.954  5.049  4.893  9.765  9.524  9.199\n",
            "  9.003  8.744  8.494  8.257  7.874  7.545  7.382  7.17   6.943  6.897\n",
            "  6.791 13.975 14.099 14.18  14.313 14.021 13.736 13.503 12.89  12.187\n",
            " 11.627 10.926 10.199  9.91   9.874  8.316  8.107  7.951  7.795  7.47\n",
            "  7.193  6.877  6.392  6.104  5.965  5.765  5.621  5.274  8.992  8.899\n",
            "  8.743  8.724  8.549  8.521  8.625  8.523  8.424  8.567  8.684  8.667\n",
            "  8.335  8.35   8.185  8.067  7.771  7.658  7.806  7.943  8.15   8.193\n",
            "  7.992  8.036  7.039  6.842  6.868  6.986  6.614  6.339  6.338  6.232\n",
            "  6.162  6.169  6.061  5.847  5.415  5.324  6.548  6.635  6.697  6.885\n",
            "  6.866  6.774  6.745  6.617  6.403  6.235  5.936  5.527  5.275  5.213\n",
            "  9.202  9.269  9.342  9.331  9.131  8.975  8.89   8.471  8.075  8.304\n",
            "  8.535  8.243  7.942  7.788  8.187  7.856  7.527  7.484  7.287  7.274\n",
            "  7.082  6.961  7.139  7.28   7.293  7.439  7.191  8.283  8.348  8.433\n",
            "  8.572  8.458  8.252  8.023  7.706  7.503  7.671  7.753  7.543  7.328\n",
            "  7.176  5.892  5.435  5.326  5.287  5.114  4.781  4.584  4.42   4.261\n",
            "  4.125  4.156  4.145  3.932  3.684  8.326  8.211  8.117  8.275  8.212\n",
            "  8.358  8.454  8.659  8.983  8.953  8.693  8.75   8.362  8.488  8.512\n",
            "  8.445  8.149  7.907  7.818  7.767  7.598  7.467  7.489  7.405  7.138\n",
            "  7.097  6.884  8.237  8.058  7.982  8.021  7.827  7.725  7.85   7.906\n",
            "  8.009  8.253  8.239  8.     7.945  7.697 10.064 10.16  10.409 10.524\n",
            " 10.256  9.966  9.863  9.357  8.988  9.14   9.419  9.151  8.951  8.78\n",
            " 10.115  9.849  9.495  9.265  8.687  8.442  8.01   7.603  7.396  7.147\n",
            "  6.895  6.806  6.698  9.521  9.593  9.816 10.21  10.398 10.581 10.641\n",
            " 10.148  9.653  9.575  9.285  8.839  8.934  8.796  9.262  9.051  8.861\n",
            "  8.763  8.745  8.876  8.665  8.6    8.36   8.554  8.464  8.476  8.395\n",
            "  8.3    8.177  7.716  7.244  6.989  6.623  6.228  6.266  6.143  7.541\n",
            "  7.363  7.335  7.508  7.241  6.934  6.901  6.759  6.589  6.547  6.432\n",
            "  6.195  5.771  5.639  8.119  7.972  7.804  7.61   7.224  6.906  6.078\n",
            "  5.774  5.407  5.217  4.983  4.872]\n",
            "IsHoliday's unique elements:\n",
            "[False  True]\n",
            "\n",
            "\n",
            "\n",
            "Store-:\n",
            "Store's unique elements:\n",
            "[ 1  2  3  4  5  6  7  8  9 10 11 12 13 14 15 16 17 18 19 20 21 22 23 24\n",
            " 25 26 27 28 29 30 31 32 33 34 35 36 37 38 39 40 41 42 43 44 45]\n",
            "Type's unique elements:\n",
            "['A' 'B' 'C']\n",
            "Size's unique elements:\n",
            "[151315 202307  37392 205863  34875 202505  70713 155078 125833 126512\n",
            " 207499 112238 219622 200898 123737  57197  93188 120653 203819 203742\n",
            " 140167 119557 114533 128107 152513 204184 206302  93638  42988 203750\n",
            " 203007  39690 158114 103681  39910 184109 155083 196321  41062 118221]\n",
            "\n",
            "\n",
            "\n",
            "Sales-:\n",
            "Store's unique elements:\n",
            "[ 1  2  3  4  5  6  7  8  9 10 11 12 13 14 15 16 17 18 19 20 21 22 23 24\n",
            " 25 26 27 28 29 30 31 32 33 34 35 36 37 38 39 40 41 42 43 44 45]\n",
            "Dept's unique elements:\n",
            "[ 1  2  3  4  5  6  7  8  9 10 11 12 13 14 16 17 18 19 20 21 22 23 24 25\n",
            " 26 27 28 29 30 31 32 33 34 35 36 37 38 40 41 42 44 45 46 47 48 49 51 52\n",
            " 54 55 56 58 59 60 67 71 72 74 77 78 79 80 81 82 83 85 87 90 91 92 93 94\n",
            " 95 96 97 98 99 39 50 43 65]\n",
            "Date's unique elements:\n",
            "['05/02/2010' '12/02/2010' '19/02/2010' '26/02/2010' '05/03/2010'\n",
            " '12/03/2010' '19/03/2010' '26/03/2010' '02/04/2010' '09/04/2010'\n",
            " '16/04/2010' '23/04/2010' '30/04/2010' '07/05/2010' '14/05/2010'\n",
            " '21/05/2010' '28/05/2010' '04/06/2010' '11/06/2010' '18/06/2010'\n",
            " '25/06/2010' '02/07/2010' '09/07/2010' '16/07/2010' '23/07/2010'\n",
            " '30/07/2010' '06/08/2010' '13/08/2010' '20/08/2010' '27/08/2010'\n",
            " '03/09/2010' '10/09/2010' '17/09/2010' '24/09/2010' '01/10/2010'\n",
            " '08/10/2010' '15/10/2010' '22/10/2010' '29/10/2010' '05/11/2010'\n",
            " '12/11/2010' '19/11/2010' '26/11/2010' '03/12/2010' '10/12/2010'\n",
            " '17/12/2010' '24/12/2010' '31/12/2010' '07/01/2011' '14/01/2011'\n",
            " '21/01/2011' '28/01/2011' '04/02/2011' '11/02/2011' '18/02/2011'\n",
            " '25/02/2011' '04/03/2011' '11/03/2011' '18/03/2011' '25/03/2011'\n",
            " '01/04/2011' '08/04/2011' '15/04/2011' '22/04/2011' '29/04/2011'\n",
            " '06/05/2011' '13/05/2011' '20/05/2011' '27/05/2011' '03/06/2011'\n",
            " '10/06/2011' '17/06/2011' '24/06/2011' '01/07/2011' '08/07/2011'\n",
            " '15/07/2011' '22/07/2011' '29/07/2011' '05/08/2011' '12/08/2011'\n",
            " '19/08/2011' '26/08/2011' '02/09/2011' '09/09/2011' '16/09/2011'\n",
            " '23/09/2011' '30/09/2011' '07/10/2011' '14/10/2011' '21/10/2011'\n",
            " '28/10/2011' '04/11/2011' '11/11/2011' '18/11/2011' '25/11/2011'\n",
            " '02/12/2011' '09/12/2011' '16/12/2011' '23/12/2011' '30/12/2011'\n",
            " '06/01/2012' '13/01/2012' '20/01/2012' '27/01/2012' '03/02/2012'\n",
            " '10/02/2012' '17/02/2012' '24/02/2012' '02/03/2012' '09/03/2012'\n",
            " '16/03/2012' '23/03/2012' '30/03/2012' '06/04/2012' '13/04/2012'\n",
            " '20/04/2012' '27/04/2012' '04/05/2012' '11/05/2012' '18/05/2012'\n",
            " '25/05/2012' '01/06/2012' '08/06/2012' '15/06/2012' '22/06/2012'\n",
            " '29/06/2012' '06/07/2012' '13/07/2012' '20/07/2012' '27/07/2012'\n",
            " '03/08/2012' '10/08/2012' '17/08/2012' '24/08/2012' '31/08/2012'\n",
            " '07/09/2012' '14/09/2012' '21/09/2012' '28/09/2012' '05/10/2012'\n",
            " '12/10/2012' '19/10/2012' '26/10/2012']\n",
            "Weekly_Sales's unique elements:\n",
            "[24924.5  46039.49 41595.55 ...  1061.02   760.01  1076.8 ]\n",
            "IsHoliday's unique elements:\n",
            "[False  True]\n",
            "\n",
            "\n",
            "\n"
          ],
          "name": "stdout"
        }
      ]
    },
    {
      "cell_type": "markdown",
      "metadata": {
        "id": "_Z6tFfZsuC5c"
      },
      "source": [
        "#Data Preprocessing"
      ]
    },
    {
      "cell_type": "code",
      "metadata": {
        "id": "dCTyhFdjhFT6"
      },
      "source": [
        "#dropping columns which have a large no. of NA entries\n",
        "features=features.drop(columns=['MarkDown1','MarkDown2','MarkDown3','MarkDown4','MarkDown5'] )"
      ],
      "execution_count": null,
      "outputs": []
    },
    {
      "cell_type": "code",
      "metadata": {
        "colab": {
          "base_uri": "https://localhost:8080/",
          "height": 418
        },
        "id": "7yEFvIfczbe2",
        "outputId": "671eda77-5b4e-484f-c4c2-c864bc959c3d"
      },
      "source": [
        "#dropping records that contain the following dates since weekly sales for these weeks have not been given in the sales dataset\n",
        "dates=['/2013','02/11/2012','09/11/2012','16/11/2012','23/11/2012','30/11/2012','07/12/2012','14/12/2012''21/12/2012','28/12/2012']\n",
        "for date in dates:\n",
        "  features=features[~features.Date.str.contains(date)]\n",
        "print(len(features['Date'].unique()))\n",
        "display(features)"
      ],
      "execution_count": null,
      "outputs": [
        {
          "output_type": "stream",
          "text": [
            "145\n"
          ],
          "name": "stdout"
        },
        {
          "output_type": "display_data",
          "data": {
            "text/html": [
              "<div>\n",
              "<style scoped>\n",
              "    .dataframe tbody tr th:only-of-type {\n",
              "        vertical-align: middle;\n",
              "    }\n",
              "\n",
              "    .dataframe tbody tr th {\n",
              "        vertical-align: top;\n",
              "    }\n",
              "\n",
              "    .dataframe thead th {\n",
              "        text-align: right;\n",
              "    }\n",
              "</style>\n",
              "<table border=\"1\" class=\"dataframe\">\n",
              "  <thead>\n",
              "    <tr style=\"text-align: right;\">\n",
              "      <th></th>\n",
              "      <th>Store</th>\n",
              "      <th>Date</th>\n",
              "      <th>Temperature</th>\n",
              "      <th>Fuel_Price</th>\n",
              "      <th>CPI</th>\n",
              "      <th>Unemployment</th>\n",
              "      <th>IsHoliday</th>\n",
              "    </tr>\n",
              "  </thead>\n",
              "  <tbody>\n",
              "    <tr>\n",
              "      <th>0</th>\n",
              "      <td>1</td>\n",
              "      <td>05/02/2010</td>\n",
              "      <td>42.31</td>\n",
              "      <td>2.572</td>\n",
              "      <td>211.096358</td>\n",
              "      <td>8.106</td>\n",
              "      <td>False</td>\n",
              "    </tr>\n",
              "    <tr>\n",
              "      <th>1</th>\n",
              "      <td>1</td>\n",
              "      <td>12/02/2010</td>\n",
              "      <td>38.51</td>\n",
              "      <td>2.548</td>\n",
              "      <td>211.242170</td>\n",
              "      <td>8.106</td>\n",
              "      <td>True</td>\n",
              "    </tr>\n",
              "    <tr>\n",
              "      <th>2</th>\n",
              "      <td>1</td>\n",
              "      <td>19/02/2010</td>\n",
              "      <td>39.93</td>\n",
              "      <td>2.514</td>\n",
              "      <td>211.289143</td>\n",
              "      <td>8.106</td>\n",
              "      <td>False</td>\n",
              "    </tr>\n",
              "    <tr>\n",
              "      <th>3</th>\n",
              "      <td>1</td>\n",
              "      <td>26/02/2010</td>\n",
              "      <td>46.63</td>\n",
              "      <td>2.561</td>\n",
              "      <td>211.319643</td>\n",
              "      <td>8.106</td>\n",
              "      <td>False</td>\n",
              "    </tr>\n",
              "    <tr>\n",
              "      <th>4</th>\n",
              "      <td>1</td>\n",
              "      <td>05/03/2010</td>\n",
              "      <td>46.50</td>\n",
              "      <td>2.625</td>\n",
              "      <td>211.350143</td>\n",
              "      <td>8.106</td>\n",
              "      <td>False</td>\n",
              "    </tr>\n",
              "    <tr>\n",
              "      <th>...</th>\n",
              "      <td>...</td>\n",
              "      <td>...</td>\n",
              "      <td>...</td>\n",
              "      <td>...</td>\n",
              "      <td>...</td>\n",
              "      <td>...</td>\n",
              "      <td>...</td>\n",
              "    </tr>\n",
              "    <tr>\n",
              "      <th>8148</th>\n",
              "      <td>45</td>\n",
              "      <td>12/10/2012</td>\n",
              "      <td>54.47</td>\n",
              "      <td>4.000</td>\n",
              "      <td>192.327265</td>\n",
              "      <td>8.667</td>\n",
              "      <td>False</td>\n",
              "    </tr>\n",
              "    <tr>\n",
              "      <th>8149</th>\n",
              "      <td>45</td>\n",
              "      <td>19/10/2012</td>\n",
              "      <td>56.47</td>\n",
              "      <td>3.969</td>\n",
              "      <td>192.330854</td>\n",
              "      <td>8.667</td>\n",
              "      <td>False</td>\n",
              "    </tr>\n",
              "    <tr>\n",
              "      <th>8150</th>\n",
              "      <td>45</td>\n",
              "      <td>26/10/2012</td>\n",
              "      <td>58.85</td>\n",
              "      <td>3.882</td>\n",
              "      <td>192.308899</td>\n",
              "      <td>8.667</td>\n",
              "      <td>False</td>\n",
              "    </tr>\n",
              "    <tr>\n",
              "      <th>8157</th>\n",
              "      <td>45</td>\n",
              "      <td>14/12/2012</td>\n",
              "      <td>43.55</td>\n",
              "      <td>3.637</td>\n",
              "      <td>192.358548</td>\n",
              "      <td>8.667</td>\n",
              "      <td>False</td>\n",
              "    </tr>\n",
              "    <tr>\n",
              "      <th>8158</th>\n",
              "      <td>45</td>\n",
              "      <td>21/12/2012</td>\n",
              "      <td>43.54</td>\n",
              "      <td>3.577</td>\n",
              "      <td>192.458906</td>\n",
              "      <td>8.667</td>\n",
              "      <td>False</td>\n",
              "    </tr>\n",
              "  </tbody>\n",
              "</table>\n",
              "<p>6525 rows × 7 columns</p>\n",
              "</div>"
            ],
            "text/plain": [
              "      Store        Date  Temperature  ...         CPI  Unemployment  IsHoliday\n",
              "0         1  05/02/2010        42.31  ...  211.096358         8.106      False\n",
              "1         1  12/02/2010        38.51  ...  211.242170         8.106       True\n",
              "2         1  19/02/2010        39.93  ...  211.289143         8.106      False\n",
              "3         1  26/02/2010        46.63  ...  211.319643         8.106      False\n",
              "4         1  05/03/2010        46.50  ...  211.350143         8.106      False\n",
              "...     ...         ...          ...  ...         ...           ...        ...\n",
              "8148     45  12/10/2012        54.47  ...  192.327265         8.667      False\n",
              "8149     45  19/10/2012        56.47  ...  192.330854         8.667      False\n",
              "8150     45  26/10/2012        58.85  ...  192.308899         8.667      False\n",
              "8157     45  14/12/2012        43.55  ...  192.358548         8.667      False\n",
              "8158     45  21/12/2012        43.54  ...  192.458906         8.667      False\n",
              "\n",
              "[6525 rows x 7 columns]"
            ]
          },
          "metadata": {
            "tags": []
          }
        }
      ]
    },
    {
      "cell_type": "markdown",
      "metadata": {
        "id": "rs6obSV73Hkw"
      },
      "source": [
        "## Exploratory Data Analysis "
      ]
    },
    {
      "cell_type": "code",
      "metadata": {
        "id": "mDXKeI4P2nEZ"
      },
      "source": [
        "#creating lists of discrete and continuous variables respectively\n",
        "discretevariables=['IsHoliday','Store']\n",
        "continuousvariables=['Temperature','Fuel_Price','CPI','Unemployment'] "
      ],
      "execution_count": null,
      "outputs": []
    },
    {
      "cell_type": "code",
      "metadata": {
        "colab": {
          "base_uri": "https://localhost:8080/",
          "height": 284
        },
        "id": "odWTcTRwHlrb",
        "outputId": "0f0fc627-1816-4d97-f8b2-4d2eeef75216"
      },
      "source": [
        "#displaying various statistical measurements of continuous variables\n",
        "df=features.drop(columns=discretevariables)\n",
        "df.describe()"
      ],
      "execution_count": null,
      "outputs": [
        {
          "output_type": "execute_result",
          "data": {
            "text/html": [
              "<div>\n",
              "<style scoped>\n",
              "    .dataframe tbody tr th:only-of-type {\n",
              "        vertical-align: middle;\n",
              "    }\n",
              "\n",
              "    .dataframe tbody tr th {\n",
              "        vertical-align: top;\n",
              "    }\n",
              "\n",
              "    .dataframe thead th {\n",
              "        text-align: right;\n",
              "    }\n",
              "</style>\n",
              "<table border=\"1\" class=\"dataframe\">\n",
              "  <thead>\n",
              "    <tr style=\"text-align: right;\">\n",
              "      <th></th>\n",
              "      <th>Temperature</th>\n",
              "      <th>Fuel_Price</th>\n",
              "      <th>CPI</th>\n",
              "      <th>Unemployment</th>\n",
              "    </tr>\n",
              "  </thead>\n",
              "  <tbody>\n",
              "    <tr>\n",
              "      <th>count</th>\n",
              "      <td>6525.000000</td>\n",
              "      <td>6525.000000</td>\n",
              "      <td>6525.000000</td>\n",
              "      <td>6525.000000</td>\n",
              "    </tr>\n",
              "    <tr>\n",
              "      <th>mean</th>\n",
              "      <td>60.424716</td>\n",
              "      <td>3.358910</td>\n",
              "      <td>171.651100</td>\n",
              "      <td>7.984731</td>\n",
              "    </tr>\n",
              "    <tr>\n",
              "      <th>std</th>\n",
              "      <td>18.470794</td>\n",
              "      <td>0.456737</td>\n",
              "      <td>39.390133</td>\n",
              "      <td>1.876198</td>\n",
              "    </tr>\n",
              "    <tr>\n",
              "      <th>min</th>\n",
              "      <td>-2.060000</td>\n",
              "      <td>2.472000</td>\n",
              "      <td>126.064000</td>\n",
              "      <td>3.879000</td>\n",
              "    </tr>\n",
              "    <tr>\n",
              "      <th>25%</th>\n",
              "      <td>47.100000</td>\n",
              "      <td>2.938000</td>\n",
              "      <td>131.735000</td>\n",
              "      <td>6.891000</td>\n",
              "    </tr>\n",
              "    <tr>\n",
              "      <th>50%</th>\n",
              "      <td>62.310000</td>\n",
              "      <td>3.443000</td>\n",
              "      <td>182.622509</td>\n",
              "      <td>7.872000</td>\n",
              "    </tr>\n",
              "    <tr>\n",
              "      <th>75%</th>\n",
              "      <td>74.740000</td>\n",
              "      <td>3.734000</td>\n",
              "      <td>212.861131</td>\n",
              "      <td>8.622000</td>\n",
              "    </tr>\n",
              "    <tr>\n",
              "      <th>max</th>\n",
              "      <td>100.140000</td>\n",
              "      <td>4.468000</td>\n",
              "      <td>227.639444</td>\n",
              "      <td>14.313000</td>\n",
              "    </tr>\n",
              "  </tbody>\n",
              "</table>\n",
              "</div>"
            ],
            "text/plain": [
              "       Temperature   Fuel_Price          CPI  Unemployment\n",
              "count  6525.000000  6525.000000  6525.000000   6525.000000\n",
              "mean     60.424716     3.358910   171.651100      7.984731\n",
              "std      18.470794     0.456737    39.390133      1.876198\n",
              "min      -2.060000     2.472000   126.064000      3.879000\n",
              "25%      47.100000     2.938000   131.735000      6.891000\n",
              "50%      62.310000     3.443000   182.622509      7.872000\n",
              "75%      74.740000     3.734000   212.861131      8.622000\n",
              "max     100.140000     4.468000   227.639444     14.313000"
            ]
          },
          "metadata": {
            "tags": []
          },
          "execution_count": 13
        }
      ]
    },
    {
      "cell_type": "code",
      "metadata": {
        "colab": {
          "base_uri": "https://localhost:8080/"
        },
        "id": "ZA0OhvTtP-ec",
        "outputId": "ad806153-5fd0-4a51-eaaa-a3a2db5b0a6e"
      },
      "source": [
        "#finding out the skew value of the continuous variables\n",
        "df.skew()"
      ],
      "execution_count": null,
      "outputs": [
        {
          "output_type": "execute_result",
          "data": {
            "text/plain": [
              "Temperature    -0.316985\n",
              "Fuel_Price     -0.096820\n",
              "CPI             0.063914\n",
              "Unemployment    1.177177\n",
              "dtype: float64"
            ]
          },
          "metadata": {
            "tags": []
          },
          "execution_count": 14
        }
      ]
    },
    {
      "cell_type": "markdown",
      "metadata": {
        "id": "HXfjnvsCJ9rf"
      },
      "source": [
        "We can infer that temperature and fuel_price are negatively skewed whereas CPI and Unemployment are positively skewed."
      ]
    },
    {
      "cell_type": "code",
      "metadata": {
        "colab": {
          "base_uri": "https://localhost:8080/",
          "height": 1000
        },
        "id": "mwnMgfHuQWg-",
        "outputId": "6806a4e0-b2be-4d8b-99fa-3137c66f9f75"
      },
      "source": [
        "# Plotting the box and whiskers plot and histogram for all continuous variables\n",
        "for variable in continuousvariables:\n",
        " print(variable+' : ')\n",
        " print('The box and whiskers plot for '+variable+' is:')\n",
        " features[variable].plot.box();\n",
        " plt.show()\n",
        " print()\n",
        " print('The histogram for continuous variable '+ variable+ ' is: ')\n",
        " plt.hist(features[variable], bins=20) #right no of bins\n",
        " plt.xlabel(variable)\n",
        " plt.show()\n",
        " print()"
      ],
      "execution_count": null,
      "outputs": [
        {
          "output_type": "stream",
          "text": [
            "Temperature : \n",
            "The box and whiskers plot for Temperature is:\n"
          ],
          "name": "stdout"
        },
        {
          "output_type": "display_data",
          "data": {
            "image/png": "[encoded data removed]",
            "text/plain": [
              "<Figure size 432x288 with 1 Axes>"
            ]
          },
          "metadata": {
            "tags": [],
            "needs_background": "light"
          }
        },
        {
          "output_type": "stream",
          "text": [
            "\n",
            "The histogram for continuous variable Temperature is: \n"
          ],
          "name": "stdout"
        },
        {
          "output_type": "display_data",
          "data": {
            "image/png": "[encoded data removed]",
            "text/plain": [
              "<Figure size 432x288 with 1 Axes>"
            ]
          },
          "metadata": {
            "tags": [],
            "needs_background": "light"
          }
        },
        {
          "output_type": "stream",
          "text": [
            "\n",
            "Fuel_Price : \n",
            "The box and whiskers plot for Fuel_Price is:\n"
          ],
          "name": "stdout"
        },
        {
          "output_type": "display_data",
          "data": {
            "image/png": "[encoded data removed]",
            "text/plain": [
              "<Figure size 432x288 with 1 Axes>"
            ]
          },
          "metadata": {
            "tags": [],
            "needs_background": "light"
          }
        },
        {
          "output_type": "stream",
          "text": [
            "\n",
            "The histogram for continuous variable Fuel_Price is: \n"
          ],
          "name": "stdout"
        },
        {
          "output_type": "display_data",
          "data": {
            "image/png": "[encoded data removed]",
            "text/plain": [
              "<Figure size 432x288 with 1 Axes>"
            ]
          },
          "metadata": {
            "tags": [],
            "needs_background": "light"
          }
        },
        {
          "output_type": "stream",
          "text": [
            "\n",
            "CPI : \n",
            "The box and whiskers plot for CPI is:\n"
          ],
          "name": "stdout"
        },
        {
          "output_type": "display_data",
          "data": {
            "image/png": "[encoded data removed]",
            "text/plain": [
              "<Figure size 432x288 with 1 Axes>"
            ]
          },
          "metadata": {
            "tags": [],
            "needs_background": "light"
          }
        },
        {
          "output_type": "stream",
          "text": [
            "\n",
            "The histogram for continuous variable CPI is: \n"
          ],
          "name": "stdout"
        },
        {
          "output_type": "display_data",
          "data": {
            "image/png": "[encoded data removed]",
            "text/plain": [
              "<Figure size 432x288 with 1 Axes>"
            ]
          },
          "metadata": {
            "tags": [],
            "needs_background": "light"
          }
        },
        {
          "output_type": "stream",
          "text": [
            "\n",
            "Unemployment : \n",
            "The box and whiskers plot for Unemployment is:\n"
          ],
          "name": "stdout"
        },
        {
          "output_type": "display_data",
          "data": {
            "image/png": "[encoded data removed]",
            "text/plain": [
              "<Figure size 432x288 with 1 Axes>"
            ]
          },
          "metadata": {
            "tags": [],
            "needs_background": "light"
          }
        },
        {
          "output_type": "stream",
          "text": [
            "\n",
            "The histogram for continuous variable Unemployment is: \n"
          ],
          "name": "stdout"
        },
        {
          "output_type": "display_data",
          "data": {
            "image/png": "[encoded data removed]",
            "text/plain": [
              "<Figure size 432x288 with 1 Axes>"
            ]
          },
          "metadata": {
            "tags": [],
            "needs_background": "light"
          }
        },
        {
          "output_type": "stream",
          "text": [
            "\n"
          ],
          "name": "stdout"
        }
      ]
    },
    {
      "cell_type": "markdown",
      "metadata": {
        "id": "lQKEPs8BKKXY"
      },
      "source": [
        "The box and whiskers plots for Temperature and Unemployment have a few outliers visible. The histogram plots of these two variables look quite like that of a Gaussian or normal distribution, but with some slight skew."
      ]
    },
    {
      "cell_type": "code",
      "metadata": {
        "colab": {
          "base_uri": "https://localhost:8080/",
          "height": 1000
        },
        "id": "4kPSBgp5RY6m",
        "outputId": "179a274a-03bd-4c8a-e8ef-28edd086c22d"
      },
      "source": [
        "#Plotting the QQ Plots of the continuous variables\n",
        "import statsmodels.api as sm\n",
        "import warnings\n",
        "warnings.filterwarnings('ignore')\n",
        "for variable in continuousvariables:\n",
        " print('The qq plot for '+ variable + ' is: ')\n",
        " fig = sm.qqplot(features[variable],line='s')\n",
        " plt.show();\n",
        " print()"
      ],
      "execution_count": null,
      "outputs": [
        {
          "output_type": "stream",
          "text": [
            "The qq plot for Temperature is: \n"
          ],
          "name": "stdout"
        },
        {
          "output_type": "display_data",
          "data": {
            "image/png": "[encoded data removed]",
            "text/plain": [
              "<Figure size 432x288 with 1 Axes>"
            ]
          },
          "metadata": {
            "tags": [],
            "needs_background": "light"
          }
        },
        {
          "output_type": "stream",
          "text": [
            "\n",
            "The qq plot for Fuel_Price is: \n"
          ],
          "name": "stdout"
        },
        {
          "output_type": "display_data",
          "data": {
            "image/png": "[encoded data removed]",
            "text/plain": [
              "<Figure size 432x288 with 1 Axes>"
            ]
          },
          "metadata": {
            "tags": [],
            "needs_background": "light"
          }
        },
        {
          "output_type": "stream",
          "text": [
            "\n",
            "The qq plot for CPI is: \n"
          ],
          "name": "stdout"
        },
        {
          "output_type": "display_data",
          "data": {
            "image/png": "[encoded data removed]",
            "text/plain": [
              "<Figure size 432x288 with 1 Axes>"
            ]
          },
          "metadata": {
            "tags": [],
            "needs_background": "light"
          }
        },
        {
          "output_type": "stream",
          "text": [
            "\n",
            "The qq plot for Unemployment is: \n"
          ],
          "name": "stdout"
        },
        {
          "output_type": "display_data",
          "data": {
            "image/png": "[encoded data removed]",
            "text/plain": [
              "<Figure size 432x288 with 1 Axes>"
            ]
          },
          "metadata": {
            "tags": [],
            "needs_background": "light"
          }
        },
        {
          "output_type": "stream",
          "text": [
            "\n"
          ],
          "name": "stdout"
        }
      ]
    },
    {
      "cell_type": "markdown",
      "metadata": {
        "id": "wUpyS2YlLC0T"
      },
      "source": [
        "The results of the skew values are shown in visual form in the QQ plots above."
      ]
    },
    {
      "cell_type": "code",
      "metadata": {
        "id": "gXqQ0uRiTmrI",
        "colab": {
          "base_uri": "https://localhost:8080/",
          "height": 402
        },
        "outputId": "bcf76200-0a6f-4fe6-b4d0-5c65207ed312"
      },
      "source": [
        "#Calculating the weekly sales of each store from the sales datasets which contains sales for each department of a store, using groupby\n",
        "df2=sales.groupby(['Store','Date'])['Weekly_Sales'].sum()\n",
        "df2 = df2.reset_index()\n",
        "df2.columns = ['Store', 'Date', 'Total_Weekly_Sales']\n",
        "df2"
      ],
      "execution_count": null,
      "outputs": [
        {
          "output_type": "execute_result",
          "data": {
            "text/html": [
              "<div>\n",
              "<style scoped>\n",
              "    .dataframe tbody tr th:only-of-type {\n",
              "        vertical-align: middle;\n",
              "    }\n",
              "\n",
              "    .dataframe tbody tr th {\n",
              "        vertical-align: top;\n",
              "    }\n",
              "\n",
              "    .dataframe thead th {\n",
              "        text-align: right;\n",
              "    }\n",
              "</style>\n",
              "<table border=\"1\" class=\"dataframe\">\n",
              "  <thead>\n",
              "    <tr style=\"text-align: right;\">\n",
              "      <th></th>\n",
              "      <th>Store</th>\n",
              "      <th>Date</th>\n",
              "      <th>Total_Weekly_Sales</th>\n",
              "    </tr>\n",
              "  </thead>\n",
              "  <tbody>\n",
              "    <tr>\n",
              "      <th>0</th>\n",
              "      <td>1</td>\n",
              "      <td>01/04/2011</td>\n",
              "      <td>1495064.75</td>\n",
              "    </tr>\n",
              "    <tr>\n",
              "      <th>1</th>\n",
              "      <td>1</td>\n",
              "      <td>01/06/2012</td>\n",
              "      <td>1624477.58</td>\n",
              "    </tr>\n",
              "    <tr>\n",
              "      <th>2</th>\n",
              "      <td>1</td>\n",
              "      <td>01/07/2011</td>\n",
              "      <td>1488538.09</td>\n",
              "    </tr>\n",
              "    <tr>\n",
              "      <th>3</th>\n",
              "      <td>1</td>\n",
              "      <td>01/10/2010</td>\n",
              "      <td>1453329.50</td>\n",
              "    </tr>\n",
              "    <tr>\n",
              "      <th>4</th>\n",
              "      <td>1</td>\n",
              "      <td>02/03/2012</td>\n",
              "      <td>1688420.76</td>\n",
              "    </tr>\n",
              "    <tr>\n",
              "      <th>...</th>\n",
              "      <td>...</td>\n",
              "      <td>...</td>\n",
              "      <td>...</td>\n",
              "    </tr>\n",
              "    <tr>\n",
              "      <th>6430</th>\n",
              "      <td>45</td>\n",
              "      <td>30/07/2010</td>\n",
              "      <td>716859.27</td>\n",
              "    </tr>\n",
              "    <tr>\n",
              "      <th>6431</th>\n",
              "      <td>45</td>\n",
              "      <td>30/09/2011</td>\n",
              "      <td>698986.34</td>\n",
              "    </tr>\n",
              "    <tr>\n",
              "      <th>6432</th>\n",
              "      <td>45</td>\n",
              "      <td>30/12/2011</td>\n",
              "      <td>869403.63</td>\n",
              "    </tr>\n",
              "    <tr>\n",
              "      <th>6433</th>\n",
              "      <td>45</td>\n",
              "      <td>31/08/2012</td>\n",
              "      <td>734297.87</td>\n",
              "    </tr>\n",
              "    <tr>\n",
              "      <th>6434</th>\n",
              "      <td>45</td>\n",
              "      <td>31/12/2010</td>\n",
              "      <td>679156.20</td>\n",
              "    </tr>\n",
              "  </tbody>\n",
              "</table>\n",
              "<p>6435 rows × 3 columns</p>\n",
              "</div>"
            ],
            "text/plain": [
              "      Store        Date  Total_Weekly_Sales\n",
              "0         1  01/04/2011          1495064.75\n",
              "1         1  01/06/2012          1624477.58\n",
              "2         1  01/07/2011          1488538.09\n",
              "3         1  01/10/2010          1453329.50\n",
              "4         1  02/03/2012          1688420.76\n",
              "...     ...         ...                 ...\n",
              "6430     45  30/07/2010           716859.27\n",
              "6431     45  30/09/2011           698986.34\n",
              "6432     45  30/12/2011           869403.63\n",
              "6433     45  31/08/2012           734297.87\n",
              "6434     45  31/12/2010           679156.20\n",
              "\n",
              "[6435 rows x 3 columns]"
            ]
          },
          "metadata": {
            "tags": []
          },
          "execution_count": 17
        }
      ]
    },
    {
      "cell_type": "code",
      "metadata": {
        "id": "w8kUfpn9g8Rq",
        "colab": {
          "base_uri": "https://localhost:8080/",
          "height": 402
        },
        "outputId": "84db443a-9f82-4a14-98c6-33fcf09de918"
      },
      "source": [
        "#Merging the weekly sales into the features dataset, to create a comprehensive dataset containing both the features and label\n",
        "total=df2.merge(features, how='outer', on=['Store','Date'])\n",
        "total=total.dropna()\n",
        "#Merging the size of the store into the total dataset, to create a final dataset on which we will analyse\n",
        "total=store.merge(total, how='outer', on='Store')\n",
        "display(total)"
      ],
      "execution_count": null,
      "outputs": [
        {
          "output_type": "display_data",
          "data": {
            "text/html": [
              "<div>\n",
              "<style scoped>\n",
              "    .dataframe tbody tr th:only-of-type {\n",
              "        vertical-align: middle;\n",
              "    }\n",
              "\n",
              "    .dataframe tbody tr th {\n",
              "        vertical-align: top;\n",
              "    }\n",
              "\n",
              "    .dataframe thead th {\n",
              "        text-align: right;\n",
              "    }\n",
              "</style>\n",
              "<table border=\"1\" class=\"dataframe\">\n",
              "  <thead>\n",
              "    <tr style=\"text-align: right;\">\n",
              "      <th></th>\n",
              "      <th>Store</th>\n",
              "      <th>Type</th>\n",
              "      <th>Size</th>\n",
              "      <th>Date</th>\n",
              "      <th>Total_Weekly_Sales</th>\n",
              "      <th>Temperature</th>\n",
              "      <th>Fuel_Price</th>\n",
              "      <th>CPI</th>\n",
              "      <th>Unemployment</th>\n",
              "      <th>IsHoliday</th>\n",
              "    </tr>\n",
              "  </thead>\n",
              "  <tbody>\n",
              "    <tr>\n",
              "      <th>0</th>\n",
              "      <td>1</td>\n",
              "      <td>A</td>\n",
              "      <td>151315</td>\n",
              "      <td>01/04/2011</td>\n",
              "      <td>1495064.75</td>\n",
              "      <td>59.17</td>\n",
              "      <td>3.524</td>\n",
              "      <td>214.837166</td>\n",
              "      <td>7.682</td>\n",
              "      <td>False</td>\n",
              "    </tr>\n",
              "    <tr>\n",
              "      <th>1</th>\n",
              "      <td>1</td>\n",
              "      <td>A</td>\n",
              "      <td>151315</td>\n",
              "      <td>01/06/2012</td>\n",
              "      <td>1624477.58</td>\n",
              "      <td>77.95</td>\n",
              "      <td>3.501</td>\n",
              "      <td>221.747214</td>\n",
              "      <td>7.143</td>\n",
              "      <td>False</td>\n",
              "    </tr>\n",
              "    <tr>\n",
              "      <th>2</th>\n",
              "      <td>1</td>\n",
              "      <td>A</td>\n",
              "      <td>151315</td>\n",
              "      <td>01/07/2011</td>\n",
              "      <td>1488538.09</td>\n",
              "      <td>85.55</td>\n",
              "      <td>3.524</td>\n",
              "      <td>215.184137</td>\n",
              "      <td>7.962</td>\n",
              "      <td>False</td>\n",
              "    </tr>\n",
              "    <tr>\n",
              "      <th>3</th>\n",
              "      <td>1</td>\n",
              "      <td>A</td>\n",
              "      <td>151315</td>\n",
              "      <td>01/10/2010</td>\n",
              "      <td>1453329.50</td>\n",
              "      <td>71.89</td>\n",
              "      <td>2.603</td>\n",
              "      <td>211.671989</td>\n",
              "      <td>7.838</td>\n",
              "      <td>False</td>\n",
              "    </tr>\n",
              "    <tr>\n",
              "      <th>4</th>\n",
              "      <td>1</td>\n",
              "      <td>A</td>\n",
              "      <td>151315</td>\n",
              "      <td>02/03/2012</td>\n",
              "      <td>1688420.76</td>\n",
              "      <td>60.96</td>\n",
              "      <td>3.630</td>\n",
              "      <td>220.848045</td>\n",
              "      <td>7.348</td>\n",
              "      <td>False</td>\n",
              "    </tr>\n",
              "    <tr>\n",
              "      <th>...</th>\n",
              "      <td>...</td>\n",
              "      <td>...</td>\n",
              "      <td>...</td>\n",
              "      <td>...</td>\n",
              "      <td>...</td>\n",
              "      <td>...</td>\n",
              "      <td>...</td>\n",
              "      <td>...</td>\n",
              "      <td>...</td>\n",
              "      <td>...</td>\n",
              "    </tr>\n",
              "    <tr>\n",
              "      <th>6430</th>\n",
              "      <td>45</td>\n",
              "      <td>B</td>\n",
              "      <td>118221</td>\n",
              "      <td>30/07/2010</td>\n",
              "      <td>716859.27</td>\n",
              "      <td>79.78</td>\n",
              "      <td>2.781</td>\n",
              "      <td>182.441538</td>\n",
              "      <td>8.743</td>\n",
              "      <td>False</td>\n",
              "    </tr>\n",
              "    <tr>\n",
              "      <th>6431</th>\n",
              "      <td>45</td>\n",
              "      <td>B</td>\n",
              "      <td>118221</td>\n",
              "      <td>30/09/2011</td>\n",
              "      <td>698986.34</td>\n",
              "      <td>70.66</td>\n",
              "      <td>3.645</td>\n",
              "      <td>187.256664</td>\n",
              "      <td>8.625</td>\n",
              "      <td>False</td>\n",
              "    </tr>\n",
              "    <tr>\n",
              "      <th>6432</th>\n",
              "      <td>45</td>\n",
              "      <td>B</td>\n",
              "      <td>118221</td>\n",
              "      <td>30/12/2011</td>\n",
              "      <td>869403.63</td>\n",
              "      <td>37.79</td>\n",
              "      <td>3.389</td>\n",
              "      <td>189.062016</td>\n",
              "      <td>8.523</td>\n",
              "      <td>True</td>\n",
              "    </tr>\n",
              "    <tr>\n",
              "      <th>6433</th>\n",
              "      <td>45</td>\n",
              "      <td>B</td>\n",
              "      <td>118221</td>\n",
              "      <td>31/08/2012</td>\n",
              "      <td>734297.87</td>\n",
              "      <td>75.09</td>\n",
              "      <td>3.867</td>\n",
              "      <td>191.461281</td>\n",
              "      <td>8.684</td>\n",
              "      <td>False</td>\n",
              "    </tr>\n",
              "    <tr>\n",
              "      <th>6434</th>\n",
              "      <td>45</td>\n",
              "      <td>B</td>\n",
              "      <td>118221</td>\n",
              "      <td>31/12/2010</td>\n",
              "      <td>679156.20</td>\n",
              "      <td>29.67</td>\n",
              "      <td>3.179</td>\n",
              "      <td>182.571448</td>\n",
              "      <td>8.724</td>\n",
              "      <td>True</td>\n",
              "    </tr>\n",
              "  </tbody>\n",
              "</table>\n",
              "<p>6435 rows × 10 columns</p>\n",
              "</div>"
            ],
            "text/plain": [
              "      Store Type    Size  ...         CPI  Unemployment  IsHoliday\n",
              "0         1    A  151315  ...  214.837166         7.682      False\n",
              "1         1    A  151315  ...  221.747214         7.143      False\n",
              "2         1    A  151315  ...  215.184137         7.962      False\n",
              "3         1    A  151315  ...  211.671989         7.838      False\n",
              "4         1    A  151315  ...  220.848045         7.348      False\n",
              "...     ...  ...     ...  ...         ...           ...        ...\n",
              "6430     45    B  118221  ...  182.441538         8.743      False\n",
              "6431     45    B  118221  ...  187.256664         8.625      False\n",
              "6432     45    B  118221  ...  189.062016         8.523       True\n",
              "6433     45    B  118221  ...  191.461281         8.684      False\n",
              "6434     45    B  118221  ...  182.571448         8.724       True\n",
              "\n",
              "[6435 rows x 10 columns]"
            ]
          },
          "metadata": {
            "tags": []
          }
        }
      ]
    },
    {
      "cell_type": "code",
      "metadata": {
        "id": "eqngJ39DGPU4"
      },
      "source": [
        "#Using Previous week sales as a feature\n",
        "total['Prev_week_sales']=total['Total_Weekly_Sales'].shift(1)\n",
        "total.dropna(axis=0,inplace=True)"
      ],
      "execution_count": null,
      "outputs": []
    },
    {
      "cell_type": "code",
      "metadata": {
        "id": "buCsBmPQqOQq"
      },
      "source": [
        "#Changing Date format and extracting month and week as features\r\n",
        "total.Date=pd.to_datetime(total.Date)"
      ],
      "execution_count": null,
      "outputs": []
    },
    {
      "cell_type": "code",
      "metadata": {
        "id": "qRapfxyHPUPD"
      },
      "source": [
        "#finding the month and week of month from the Date variable\r\n",
        "import calendar\r\n",
        "import datetime\r\n",
        "def week_of_month(tgtdate):\r\n",
        "\r\n",
        "    days_this_month = calendar.mdays[tgtdate.month]\r\n",
        "    for i in range(1, days_this_month):\r\n",
        "        d = datetime.date(tgtdate.year, tgtdate.month, i)\r\n",
        "        if d.day - d.weekday() > 0:\r\n",
        "            startdate = d\r\n",
        "            break\r\n",
        "    # now we can use the modulo 7 appraoch\r\n",
        "    return (tgtdate - startdate).days //7 + 1"
      ],
      "execution_count": null,
      "outputs": []
    },
    {
      "cell_type": "code",
      "metadata": {
        "id": "HDxL8JD9Pay2"
      },
      "source": [
        "week=[]\r\n",
        "for date in total['Date']:\r\n",
        "  week.append(int(week_of_month(date.date())))"
      ],
      "execution_count": null,
      "outputs": []
    },
    {
      "cell_type": "code",
      "metadata": {
        "id": "HJafa-4nGSWz"
      },
      "source": [
        "total['month']=total.Date.apply(lambda x:x.month)\n",
        "total['week']=week"
      ],
      "execution_count": null,
      "outputs": []
    },
    {
      "cell_type": "code",
      "metadata": {
        "colab": {
          "base_uri": "https://localhost:8080/",
          "height": 402
        },
        "id": "S3HzdYOLr7wl",
        "outputId": "20836b40-a0d1-49f0-ca16-aeb06a40501f"
      },
      "source": [
        "total # our final dataset on which we will perform the analysis and carry out prediction"
      ],
      "execution_count": null,
      "outputs": [
        {
          "output_type": "execute_result",
          "data": {
            "text/html": [
              "<div>\n",
              "<style scoped>\n",
              "    .dataframe tbody tr th:only-of-type {\n",
              "        vertical-align: middle;\n",
              "    }\n",
              "\n",
              "    .dataframe tbody tr th {\n",
              "        vertical-align: top;\n",
              "    }\n",
              "\n",
              "    .dataframe thead th {\n",
              "        text-align: right;\n",
              "    }\n",
              "</style>\n",
              "<table border=\"1\" class=\"dataframe\">\n",
              "  <thead>\n",
              "    <tr style=\"text-align: right;\">\n",
              "      <th></th>\n",
              "      <th>Store</th>\n",
              "      <th>Type</th>\n",
              "      <th>Size</th>\n",
              "      <th>Date</th>\n",
              "      <th>Total_Weekly_Sales</th>\n",
              "      <th>Temperature</th>\n",
              "      <th>Fuel_Price</th>\n",
              "      <th>CPI</th>\n",
              "      <th>Unemployment</th>\n",
              "      <th>IsHoliday</th>\n",
              "      <th>Prev_week_sales</th>\n",
              "      <th>month</th>\n",
              "      <th>week</th>\n",
              "    </tr>\n",
              "  </thead>\n",
              "  <tbody>\n",
              "    <tr>\n",
              "      <th>1</th>\n",
              "      <td>1</td>\n",
              "      <td>A</td>\n",
              "      <td>151315</td>\n",
              "      <td>2012-01-06</td>\n",
              "      <td>1624477.58</td>\n",
              "      <td>77.95</td>\n",
              "      <td>3.501</td>\n",
              "      <td>221.747214</td>\n",
              "      <td>7.143</td>\n",
              "      <td>False</td>\n",
              "      <td>1495064.75</td>\n",
              "      <td>1</td>\n",
              "      <td>1</td>\n",
              "    </tr>\n",
              "    <tr>\n",
              "      <th>2</th>\n",
              "      <td>1</td>\n",
              "      <td>A</td>\n",
              "      <td>151315</td>\n",
              "      <td>2011-01-07</td>\n",
              "      <td>1488538.09</td>\n",
              "      <td>85.55</td>\n",
              "      <td>3.524</td>\n",
              "      <td>215.184137</td>\n",
              "      <td>7.962</td>\n",
              "      <td>False</td>\n",
              "      <td>1624477.58</td>\n",
              "      <td>1</td>\n",
              "      <td>1</td>\n",
              "    </tr>\n",
              "    <tr>\n",
              "      <th>3</th>\n",
              "      <td>1</td>\n",
              "      <td>A</td>\n",
              "      <td>151315</td>\n",
              "      <td>2010-01-10</td>\n",
              "      <td>1453329.50</td>\n",
              "      <td>71.89</td>\n",
              "      <td>2.603</td>\n",
              "      <td>211.671989</td>\n",
              "      <td>7.838</td>\n",
              "      <td>False</td>\n",
              "      <td>1488538.09</td>\n",
              "      <td>1</td>\n",
              "      <td>1</td>\n",
              "    </tr>\n",
              "    <tr>\n",
              "      <th>4</th>\n",
              "      <td>1</td>\n",
              "      <td>A</td>\n",
              "      <td>151315</td>\n",
              "      <td>2012-02-03</td>\n",
              "      <td>1688420.76</td>\n",
              "      <td>60.96</td>\n",
              "      <td>3.630</td>\n",
              "      <td>220.848045</td>\n",
              "      <td>7.348</td>\n",
              "      <td>False</td>\n",
              "      <td>1453329.50</td>\n",
              "      <td>2</td>\n",
              "      <td>0</td>\n",
              "    </tr>\n",
              "    <tr>\n",
              "      <th>5</th>\n",
              "      <td>1</td>\n",
              "      <td>A</td>\n",
              "      <td>151315</td>\n",
              "      <td>2010-02-04</td>\n",
              "      <td>1594968.28</td>\n",
              "      <td>62.27</td>\n",
              "      <td>2.719</td>\n",
              "      <td>210.820450</td>\n",
              "      <td>7.808</td>\n",
              "      <td>False</td>\n",
              "      <td>1688420.76</td>\n",
              "      <td>2</td>\n",
              "      <td>1</td>\n",
              "    </tr>\n",
              "    <tr>\n",
              "      <th>...</th>\n",
              "      <td>...</td>\n",
              "      <td>...</td>\n",
              "      <td>...</td>\n",
              "      <td>...</td>\n",
              "      <td>...</td>\n",
              "      <td>...</td>\n",
              "      <td>...</td>\n",
              "      <td>...</td>\n",
              "      <td>...</td>\n",
              "      <td>...</td>\n",
              "      <td>...</td>\n",
              "      <td>...</td>\n",
              "      <td>...</td>\n",
              "    </tr>\n",
              "    <tr>\n",
              "      <th>6430</th>\n",
              "      <td>45</td>\n",
              "      <td>B</td>\n",
              "      <td>118221</td>\n",
              "      <td>2010-07-30</td>\n",
              "      <td>716859.27</td>\n",
              "      <td>79.78</td>\n",
              "      <td>2.781</td>\n",
              "      <td>182.441538</td>\n",
              "      <td>8.743</td>\n",
              "      <td>False</td>\n",
              "      <td>737265.57</td>\n",
              "      <td>7</td>\n",
              "      <td>4</td>\n",
              "    </tr>\n",
              "    <tr>\n",
              "      <th>6431</th>\n",
              "      <td>45</td>\n",
              "      <td>B</td>\n",
              "      <td>118221</td>\n",
              "      <td>2011-09-30</td>\n",
              "      <td>698986.34</td>\n",
              "      <td>70.66</td>\n",
              "      <td>3.645</td>\n",
              "      <td>187.256664</td>\n",
              "      <td>8.625</td>\n",
              "      <td>False</td>\n",
              "      <td>716859.27</td>\n",
              "      <td>9</td>\n",
              "      <td>4</td>\n",
              "    </tr>\n",
              "    <tr>\n",
              "      <th>6432</th>\n",
              "      <td>45</td>\n",
              "      <td>B</td>\n",
              "      <td>118221</td>\n",
              "      <td>2011-12-30</td>\n",
              "      <td>869403.63</td>\n",
              "      <td>37.79</td>\n",
              "      <td>3.389</td>\n",
              "      <td>189.062016</td>\n",
              "      <td>8.523</td>\n",
              "      <td>True</td>\n",
              "      <td>698986.34</td>\n",
              "      <td>12</td>\n",
              "      <td>4</td>\n",
              "    </tr>\n",
              "    <tr>\n",
              "      <th>6433</th>\n",
              "      <td>45</td>\n",
              "      <td>B</td>\n",
              "      <td>118221</td>\n",
              "      <td>2012-08-31</td>\n",
              "      <td>734297.87</td>\n",
              "      <td>75.09</td>\n",
              "      <td>3.867</td>\n",
              "      <td>191.461281</td>\n",
              "      <td>8.684</td>\n",
              "      <td>False</td>\n",
              "      <td>869403.63</td>\n",
              "      <td>8</td>\n",
              "      <td>4</td>\n",
              "    </tr>\n",
              "    <tr>\n",
              "      <th>6434</th>\n",
              "      <td>45</td>\n",
              "      <td>B</td>\n",
              "      <td>118221</td>\n",
              "      <td>2010-12-31</td>\n",
              "      <td>679156.20</td>\n",
              "      <td>29.67</td>\n",
              "      <td>3.179</td>\n",
              "      <td>182.571448</td>\n",
              "      <td>8.724</td>\n",
              "      <td>True</td>\n",
              "      <td>734297.87</td>\n",
              "      <td>12</td>\n",
              "      <td>4</td>\n",
              "    </tr>\n",
              "  </tbody>\n",
              "</table>\n",
              "<p>6434 rows × 13 columns</p>\n",
              "</div>"
            ],
            "text/plain": [
              "      Store Type    Size       Date  ...  IsHoliday  Prev_week_sales  month  week\n",
              "1         1    A  151315 2012-01-06  ...      False       1495064.75      1     1\n",
              "2         1    A  151315 2011-01-07  ...      False       1624477.58      1     1\n",
              "3         1    A  151315 2010-01-10  ...      False       1488538.09      1     1\n",
              "4         1    A  151315 2012-02-03  ...      False       1453329.50      2     0\n",
              "5         1    A  151315 2010-02-04  ...      False       1688420.76      2     1\n",
              "...     ...  ...     ...        ...  ...        ...              ...    ...   ...\n",
              "6430     45    B  118221 2010-07-30  ...      False        737265.57      7     4\n",
              "6431     45    B  118221 2011-09-30  ...      False        716859.27      9     4\n",
              "6432     45    B  118221 2011-12-30  ...       True        698986.34     12     4\n",
              "6433     45    B  118221 2012-08-31  ...      False        869403.63      8     4\n",
              "6434     45    B  118221 2010-12-31  ...       True        734297.87     12     4\n",
              "\n",
              "[6434 rows x 13 columns]"
            ]
          },
          "metadata": {
            "tags": []
          },
          "execution_count": 24
        }
      ]
    },
    {
      "cell_type": "markdown",
      "metadata": {
        "id": "nQsDOu0NiEdH"
      },
      "source": [
        "##Visualising correlations between the various features and weekly sales"
      ]
    },
    {
      "cell_type": "code",
      "metadata": {
        "id": "lmAvGAZ8iOCj",
        "colab": {
          "base_uri": "https://localhost:8080/",
          "height": 514
        },
        "outputId": "73568816-4ab5-41bd-9e87-597de22c20e7"
      },
      "source": [
        "#Plotting a heatmap to see the correlation between the various continuous variables\n",
        "figure(num=None, figsize=(8, 6), dpi=80, facecolor='w', edgecolor='k')\n",
        "sns.heatmap(total.corr(), annot=True, fmt=\".2f\")\n",
        "plt.show()"
      ],
      "execution_count": null,
      "outputs": [
        {
          "output_type": "display_data",
          "data": {
            "image/png": "[encoded data removed]",
            "text/plain": [
              "<Figure size 640x480 with 2 Axes>"
            ]
          },
          "metadata": {
            "tags": []
          }
        }
      ]
    },
    {
      "cell_type": "markdown",
      "metadata": {
        "id": "Ze_18UmSLhjb"
      },
      "source": [
        "Total weekly sales is comparatively more correlated to size, previous week sales and store than the features."
      ]
    },
    {
      "cell_type": "code",
      "metadata": {
        "id": "UjXp2UjPrwNo",
        "colab": {
          "base_uri": "https://localhost:8080/",
          "height": 402
        },
        "outputId": "f15a747c-c836-41cc-9915-08a5221da708"
      },
      "source": [
        "#creating a subset of the dataset to give clear scatter plots which are not that dense\n",
        "df4=total.nlargest(100, ['Total_Weekly_Sales'])\n",
        "df4 #dataset of the top 100 highest weekly sales"
      ],
      "execution_count": null,
      "outputs": [
        {
          "output_type": "execute_result",
          "data": {
            "text/html": [
              "<div>\n",
              "<style scoped>\n",
              "    .dataframe tbody tr th:only-of-type {\n",
              "        vertical-align: middle;\n",
              "    }\n",
              "\n",
              "    .dataframe tbody tr th {\n",
              "        vertical-align: top;\n",
              "    }\n",
              "\n",
              "    .dataframe thead th {\n",
              "        text-align: right;\n",
              "    }\n",
              "</style>\n",
              "<table border=\"1\" class=\"dataframe\">\n",
              "  <thead>\n",
              "    <tr style=\"text-align: right;\">\n",
              "      <th></th>\n",
              "      <th>Store</th>\n",
              "      <th>Type</th>\n",
              "      <th>Size</th>\n",
              "      <th>Date</th>\n",
              "      <th>Total_Weekly_Sales</th>\n",
              "      <th>Temperature</th>\n",
              "      <th>Fuel_Price</th>\n",
              "      <th>CPI</th>\n",
              "      <th>Unemployment</th>\n",
              "      <th>IsHoliday</th>\n",
              "      <th>Prev_week_sales</th>\n",
              "      <th>month</th>\n",
              "      <th>week</th>\n",
              "    </tr>\n",
              "  </thead>\n",
              "  <tbody>\n",
              "    <tr>\n",
              "      <th>1971</th>\n",
              "      <td>14</td>\n",
              "      <td>A</td>\n",
              "      <td>200898</td>\n",
              "      <td>2010-12-24</td>\n",
              "      <td>3818686.45</td>\n",
              "      <td>30.59</td>\n",
              "      <td>3.141</td>\n",
              "      <td>182.544590</td>\n",
              "      <td>8.724</td>\n",
              "      <td>False</td>\n",
              "      <td>1879891.13</td>\n",
              "      <td>12</td>\n",
              "      <td>3</td>\n",
              "    </tr>\n",
              "    <tr>\n",
              "      <th>2829</th>\n",
              "      <td>20</td>\n",
              "      <td>A</td>\n",
              "      <td>203742</td>\n",
              "      <td>2010-12-24</td>\n",
              "      <td>3766687.43</td>\n",
              "      <td>25.17</td>\n",
              "      <td>3.141</td>\n",
              "      <td>204.637673</td>\n",
              "      <td>7.484</td>\n",
              "      <td>False</td>\n",
              "      <td>1789687.65</td>\n",
              "      <td>12</td>\n",
              "      <td>3</td>\n",
              "    </tr>\n",
              "    <tr>\n",
              "      <th>1399</th>\n",
              "      <td>10</td>\n",
              "      <td>B</td>\n",
              "      <td>126512</td>\n",
              "      <td>2010-12-24</td>\n",
              "      <td>3749057.69</td>\n",
              "      <td>57.06</td>\n",
              "      <td>3.236</td>\n",
              "      <td>126.983581</td>\n",
              "      <td>9.003</td>\n",
              "      <td>False</td>\n",
              "      <td>1655036.75</td>\n",
              "      <td>12</td>\n",
              "      <td>3</td>\n",
              "    </tr>\n",
              "    <tr>\n",
              "      <th>536</th>\n",
              "      <td>4</td>\n",
              "      <td>A</td>\n",
              "      <td>205863</td>\n",
              "      <td>2011-12-23</td>\n",
              "      <td>3676388.98</td>\n",
              "      <td>35.92</td>\n",
              "      <td>3.103</td>\n",
              "      <td>129.984548</td>\n",
              "      <td>5.143</td>\n",
              "      <td>False</td>\n",
              "      <td>2031406.41</td>\n",
              "      <td>12</td>\n",
              "      <td>3</td>\n",
              "    </tr>\n",
              "    <tr>\n",
              "      <th>1828</th>\n",
              "      <td>13</td>\n",
              "      <td>A</td>\n",
              "      <td>219622</td>\n",
              "      <td>2010-12-24</td>\n",
              "      <td>3595903.20</td>\n",
              "      <td>34.90</td>\n",
              "      <td>2.846</td>\n",
              "      <td>126.983581</td>\n",
              "      <td>7.795</td>\n",
              "      <td>False</td>\n",
              "      <td>1705655.09</td>\n",
              "      <td>12</td>\n",
              "      <td>3</td>\n",
              "    </tr>\n",
              "    <tr>\n",
              "      <th>...</th>\n",
              "      <td>...</td>\n",
              "      <td>...</td>\n",
              "      <td>...</td>\n",
              "      <td>...</td>\n",
              "      <td>...</td>\n",
              "      <td>...</td>\n",
              "      <td>...</td>\n",
              "      <td>...</td>\n",
              "      <td>...</td>\n",
              "      <td>...</td>\n",
              "      <td>...</td>\n",
              "      <td>...</td>\n",
              "      <td>...</td>\n",
              "    </tr>\n",
              "    <tr>\n",
              "      <th>2797</th>\n",
              "      <td>20</td>\n",
              "      <td>A</td>\n",
              "      <td>203742</td>\n",
              "      <td>2011-02-18</td>\n",
              "      <td>2258616.24</td>\n",
              "      <td>42.95</td>\n",
              "      <td>3.245</td>\n",
              "      <td>206.369470</td>\n",
              "      <td>7.343</td>\n",
              "      <td>False</td>\n",
              "      <td>2819193.17</td>\n",
              "      <td>2</td>\n",
              "      <td>2</td>\n",
              "    </tr>\n",
              "    <tr>\n",
              "      <th>1872</th>\n",
              "      <td>14</td>\n",
              "      <td>A</td>\n",
              "      <td>200898</td>\n",
              "      <td>2010-03-12</td>\n",
              "      <td>2258489.63</td>\n",
              "      <td>40.93</td>\n",
              "      <td>3.046</td>\n",
              "      <td>182.667615</td>\n",
              "      <td>8.724</td>\n",
              "      <td>False</td>\n",
              "      <td>2182563.66</td>\n",
              "      <td>3</td>\n",
              "      <td>2</td>\n",
              "    </tr>\n",
              "    <tr>\n",
              "      <th>1958</th>\n",
              "      <td>14</td>\n",
              "      <td>A</td>\n",
              "      <td>200898</td>\n",
              "      <td>2011-04-22</td>\n",
              "      <td>2256461.39</td>\n",
              "      <td>53.04</td>\n",
              "      <td>3.892</td>\n",
              "      <td>185.668467</td>\n",
              "      <td>8.521</td>\n",
              "      <td>False</td>\n",
              "      <td>2009004.59</td>\n",
              "      <td>4</td>\n",
              "      <td>3</td>\n",
              "    </tr>\n",
              "    <tr>\n",
              "      <th>1300</th>\n",
              "      <td>10</td>\n",
              "      <td>B</td>\n",
              "      <td>126512</td>\n",
              "      <td>2010-03-12</td>\n",
              "      <td>2251206.64</td>\n",
              "      <td>51.17</td>\n",
              "      <td>3.041</td>\n",
              "      <td>126.731333</td>\n",
              "      <td>9.003</td>\n",
              "      <td>False</td>\n",
              "      <td>1766331.45</td>\n",
              "      <td>3</td>\n",
              "      <td>2</td>\n",
              "    </tr>\n",
              "    <tr>\n",
              "      <th>832</th>\n",
              "      <td>6</td>\n",
              "      <td>A</td>\n",
              "      <td>202505</td>\n",
              "      <td>2011-11-25</td>\n",
              "      <td>2249811.55</td>\n",
              "      <td>62.78</td>\n",
              "      <td>3.236</td>\n",
              "      <td>220.041741</td>\n",
              "      <td>6.551</td>\n",
              "      <td>True</td>\n",
              "      <td>1640681.88</td>\n",
              "      <td>11</td>\n",
              "      <td>3</td>\n",
              "    </tr>\n",
              "  </tbody>\n",
              "</table>\n",
              "<p>100 rows × 13 columns</p>\n",
              "</div>"
            ],
            "text/plain": [
              "      Store Type    Size       Date  ...  IsHoliday  Prev_week_sales  month  week\n",
              "1971     14    A  200898 2010-12-24  ...      False       1879891.13     12     3\n",
              "2829     20    A  203742 2010-12-24  ...      False       1789687.65     12     3\n",
              "1399     10    B  126512 2010-12-24  ...      False       1655036.75     12     3\n",
              "536       4    A  205863 2011-12-23  ...      False       2031406.41     12     3\n",
              "1828     13    A  219622 2010-12-24  ...      False       1705655.09     12     3\n",
              "...     ...  ...     ...        ...  ...        ...              ...    ...   ...\n",
              "2797     20    A  203742 2011-02-18  ...      False       2819193.17      2     2\n",
              "1872     14    A  200898 2010-03-12  ...      False       2182563.66      3     2\n",
              "1958     14    A  200898 2011-04-22  ...      False       2009004.59      4     3\n",
              "1300     10    B  126512 2010-03-12  ...      False       1766331.45      3     2\n",
              "832       6    A  202505 2011-11-25  ...       True       1640681.88     11     3\n",
              "\n",
              "[100 rows x 13 columns]"
            ]
          },
          "metadata": {
            "tags": []
          },
          "execution_count": 26
        }
      ]
    },
    {
      "cell_type": "markdown",
      "metadata": {
        "id": "pyfyDRRbt3QA"
      },
      "source": [
        "We notice the top 10 weekly sales are occuring during the Christmas Week!"
      ]
    },
    {
      "cell_type": "code",
      "metadata": {
        "id": "do3x1QnxsSaG",
        "colab": {
          "base_uri": "https://localhost:8080/",
          "height": 476
        },
        "outputId": "b793ebd3-57d0-4304-f29b-eed73b2b1bef"
      },
      "source": [
        "#Plotting a bargraph to see how the week being a holiday afects the sales of a store\n",
        "figure(num=None, figsize=(8, 6), dpi=80, facecolor='w', edgecolor='k')\n",
        "ax = sns.barplot(x=\"IsHoliday\", y=\"Total_Weekly_Sales\", data=total)\n",
        "print('Bar graph between total weekly sales and whether the week is a holiday')\n",
        "print()\n",
        "plt.ylabel('Total weekly sales', fontsize=13)\n",
        "plt.xlabel('The week is a holiday', fontsize=13)\n",
        "plt.show();"
      ],
      "execution_count": null,
      "outputs": [
        {
          "output_type": "stream",
          "text": [
            "Bar graph between total weekly sales and whether the week is a holiday\n",
            "\n"
          ],
          "name": "stdout"
        },
        {
          "output_type": "display_data",
          "data": {
            "image/png": "[encoded data removed]",
            "text/plain": [
              "<Figure size 640x480 with 1 Axes>"
            ]
          },
          "metadata": {
            "tags": []
          }
        }
      ]
    },
    {
      "cell_type": "markdown",
      "metadata": {
        "id": "BYQxMNy2L715"
      },
      "source": [
        "As intuitively expected, sales are higher if the week contains a holiday rather than a normal week of the year since customers tend to splurge during the holidays."
      ]
    },
    {
      "cell_type": "code",
      "metadata": {
        "id": "xXrvElKdxAQE",
        "colab": {
          "base_uri": "https://localhost:8080/",
          "height": 459
        },
        "outputId": "d667ba71-7609-40a4-f0d5-c155b38007fa"
      },
      "source": [
        "#plotting a scatter plot to see the relation between temperature and weekly sales for the top 100 highest weekly sales\n",
        "figure(num=None, figsize=(8, 6), dpi=80, facecolor='w', edgecolor='k')\n",
        "sns.scatterplot(data=df4, x=\"Temperature\", y=\"Total_Weekly_Sales\",color='green')\n",
        "plt.xlabel('Temperature', fontsize=13)\n",
        "plt.ylabel('Total Weekly Sales', fontsize=13)\n",
        "print('Scatter plot between the total weekly sales and temperature')\n",
        "plt.show();"
      ],
      "execution_count": null,
      "outputs": [
        {
          "output_type": "stream",
          "text": [
            "Scatter plot between the total weekly sales and temperature\n"
          ],
          "name": "stdout"
        },
        {
          "output_type": "display_data",
          "data": {
            "image/png": "[encoded data removed]",
            "text/plain": [
              "<Figure size 640x480 with 1 Axes>"
            ]
          },
          "metadata": {
            "tags": []
          }
        }
      ]
    },
    {
      "cell_type": "markdown",
      "metadata": {
        "id": "Ga_9A_D4ff1J"
      },
      "source": [
        "From the above scatter plot, we infer that at lower temperatures, the weekly sales are more abundant as well as higher as compared to when the temperatures increase and the general thought that customers do not tend to shop in adverse weather conditions, and if so then cooler weather is more probable, is depicted."
      ]
    },
    {
      "cell_type": "code",
      "metadata": {
        "id": "UztCOb9M4eMy",
        "colab": {
          "base_uri": "https://localhost:8080/",
          "height": 476
        },
        "outputId": "0ecd7bb5-d87a-4481-d2f4-30f440a3f995"
      },
      "source": [
        "#Plotting a bargraph to see how the type of store affects the sales of a store\n",
        "figure(num=None, figsize=(8, 6), dpi=80, facecolor='w', edgecolor='k')\n",
        "ax = sns.barplot(x=\"Type\", y=\"Total_Weekly_Sales\", data=total)\n",
        "print('Bar graph between total weekly sales and the type of store')\n",
        "print()\n",
        "plt.ylabel('Total weekly sales', fontsize=13)\n",
        "plt.xlabel('Type of store', fontsize=13)\n",
        "plt.show();"
      ],
      "execution_count": null,
      "outputs": [
        {
          "output_type": "stream",
          "text": [
            "Bar graph between total weekly sales and the type of store\n",
            "\n"
          ],
          "name": "stdout"
        },
        {
          "output_type": "display_data",
          "data": {
            "image/png": "[encoded data removed]",
            "text/plain": [
              "<Figure size 640x480 with 1 Axes>"
            ]
          },
          "metadata": {
            "tags": []
          }
        }
      ]
    },
    {
      "cell_type": "markdown",
      "metadata": {
        "id": "S0H9jLNXMMxQ"
      },
      "source": [
        "Type A stores contribute more to the weekly sales of the franchise as compared to B and C types."
      ]
    },
    {
      "cell_type": "code",
      "metadata": {
        "id": "0n3w1Ji1OWq7",
        "colab": {
          "base_uri": "https://localhost:8080/",
          "height": 466
        },
        "outputId": "5d94d436-e505-480f-a0c8-15dc000975b8"
      },
      "source": [
        "#Plotting a line chart of total weekly sales against the date\r\n",
        "fig,ax=plt.subplots(figsize=(15,7))\r\n",
        "sns.set_style('darkgrid')\r\n",
        "plt.title('Sales v/s Date', fontsize=17)\r\n",
        "plt.xlabel('Date',size=14)\r\n",
        "plt.ylabel('Total Weekly Sales',size=14)\r\n",
        "x=total['Date']\r\n",
        "y=total['Total_Weekly_Sales']\r\n",
        "sns.lineplot(x=x,y=y)\r\n",
        "plt.show()"
      ],
      "execution_count": null,
      "outputs": [
        {
          "output_type": "display_data",
          "data": {
            "image/png": "[encoded data removed]",
            "text/plain": [
              "<Figure size 1080x504 with 1 Axes>"
            ]
          },
          "metadata": {
            "tags": [],
            "needs_background": "light"
          }
        }
      ]
    },
    {
      "cell_type": "markdown",
      "metadata": {
        "id": "U2-YONQ4MVJ1"
      },
      "source": [
        "The line plot shows slight fluctuations around the year, but sharp rises occur during festivals like Christmas, Thanksgiving, etc. when customers tend to buy more."
      ]
    },
    {
      "cell_type": "code",
      "metadata": {
        "colab": {
          "base_uri": "https://localhost:8080/",
          "height": 466
        },
        "id": "itW9by4d_l0H",
        "outputId": "6471af67-a975-404b-f7af-1c5269f8e216"
      },
      "source": [
        "#Plotting a line chart of total weekly sales against the week\r\n",
        "fig,ax=plt.subplots(figsize=(15,7))\r\n",
        "sns.set_style('darkgrid')\r\n",
        "plt.title('Sales v/s week', fontsize=17)\r\n",
        "plt.xlabel('Week',size=14)\r\n",
        "x=total['week']\r\n",
        "y=total['Total_Weekly_Sales']\r\n",
        "sns.lineplot(x=x,y=y)\r\n",
        "plt.show()"
      ],
      "execution_count": null,
      "outputs": [
        {
          "output_type": "display_data",
          "data": {
            "image/png": "[encoded data removed]",
            "text/plain": [
              "<Figure size 1080x504 with 1 Axes>"
            ]
          },
          "metadata": {
            "tags": []
          }
        }
      ]
    },
    {
      "cell_type": "markdown",
      "metadata": {
        "id": "JKm2bdCAMx7D"
      },
      "source": [
        "A general trend seen is sales increasing and reaching peaks during the middle weeks of a month and decreasing at the beginning and end of a month."
      ]
    },
    {
      "cell_type": "code",
      "metadata": {
        "id": "f6PzCF0PACqp"
      },
      "source": [
        "total['week']=total['week'].astype(str)\r\n",
        "total['month']=total['month'].astype(str)\r\n",
        "total['month_week']=total[['month','week']].agg('-'.join,axis=1)"
      ],
      "execution_count": null,
      "outputs": []
    },
    {
      "cell_type": "code",
      "metadata": {
        "colab": {
          "base_uri": "https://localhost:8080/",
          "height": 456
        },
        "id": "xyqV_2EfAKFB",
        "outputId": "d3bd43d9-bd3d-40ab-c2e7-aa030914c5eb"
      },
      "source": [
        "#Plotting a line chart of total weekly sales against the month-week of month pair\r\n",
        "fig,ax=plt.subplots(figsize=(25,7))\r\n",
        "sns.set_style('darkgrid')\r\n",
        "plt.title('Sales v/s week', fontsize=17)\r\n",
        "plt.xlabel('Week',size=14)\r\n",
        "x=total['month_week']\r\n",
        "y=total['Total_Weekly_Sales']\r\n",
        "sns.lineplot(x=x,y=y)\r\n",
        "plt.show()"
      ],
      "execution_count": null,
      "outputs": [
        {
          "output_type": "display_data",
          "data": {
            "image/png": "[encoded data removed]",
            "text/plain": [
              "<Figure size 1800x504 with 1 Axes>"
            ]
          },
          "metadata": {
            "tags": []
          }
        }
      ]
    },
    {
      "cell_type": "code",
      "metadata": {
        "id": "ZuCR380yARFX"
      },
      "source": [
        "#dropping month_week variable as it is not required for prediction\n",
        "total.drop(['month_week'],axis=1,inplace=True)"
      ],
      "execution_count": null,
      "outputs": []
    },
    {
      "cell_type": "markdown",
      "metadata": {
        "id": "bo6nU5gCsOFB"
      },
      "source": [
        "##Creating a model to predict Total Weekly Sales of a store"
      ]
    },
    {
      "cell_type": "code",
      "metadata": {
        "colab": {
          "base_uri": "https://localhost:8080/"
        },
        "id": "Auv8Wjr0ysO0",
        "outputId": "c8ef039d-516b-4fc0-ad39-a48a38b1e2c8"
      },
      "source": [
        "#Preparing the data for training the model\r\n",
        "X = total.drop(['Total_Weekly_Sales','Store','Date',], axis=1)\r\n",
        "Y= total['Total_Weekly_Sales']\r\n",
        "print(len(X)) #number of samples"
      ],
      "execution_count": null,
      "outputs": [
        {
          "output_type": "stream",
          "text": [
            "6434\n"
          ],
          "name": "stdout"
        }
      ]
    },
    {
      "cell_type": "code",
      "metadata": {
        "id": "OIRy3KGSy44L"
      },
      "source": [
        "#One Hot Encoding\r\n",
        "dummies=pd.get_dummies(X['Type'],drop_first=True)\r\n",
        "X=X.drop(['Type'],axis=1)\r\n",
        "X=pd.concat([X,dummies],axis=1)"
      ],
      "execution_count": null,
      "outputs": []
    },
    {
      "cell_type": "code",
      "metadata": {
        "id": "b5igq4Ywzh1G"
      },
      "source": [
        "#Changing Boolean values to corresponding 1/0\r\n",
        "X['IsHoliday']=X['IsHoliday'].apply(lambda x:int(x))"
      ],
      "execution_count": null,
      "outputs": []
    },
    {
      "cell_type": "code",
      "metadata": {
        "id": "R956RxEiztWP"
      },
      "source": [
        "#Scaling\r\n",
        "contd_variablesX=['Size','Temperature','Fuel_Price','CPI','Unemployment','Prev_week_sales']\r\n",
        "for col in contd_variablesX:\r\n",
        "  X[col]=(X[col]-X[col].mean())/X[col].std()\r\n",
        "Y=(Y-Y.mean())/Y.std()"
      ],
      "execution_count": null,
      "outputs": []
    },
    {
      "cell_type": "code",
      "metadata": {
        "colab": {
          "base_uri": "https://localhost:8080/",
          "height": 173
        },
        "id": "_vsai-ls0d9D",
        "outputId": "6728f014-b21a-4808-f921-6e35e45f000d"
      },
      "source": [
        "X.head(4) #the top 4 entries of the features X dataset"
      ],
      "execution_count": null,
      "outputs": [
        {
          "output_type": "execute_result",
          "data": {
            "text/html": [
              "<div>\n",
              "<style scoped>\n",
              "    .dataframe tbody tr th:only-of-type {\n",
              "        vertical-align: middle;\n",
              "    }\n",
              "\n",
              "    .dataframe tbody tr th {\n",
              "        vertical-align: top;\n",
              "    }\n",
              "\n",
              "    .dataframe thead th {\n",
              "        text-align: right;\n",
              "    }\n",
              "</style>\n",
              "<table border=\"1\" class=\"dataframe\">\n",
              "  <thead>\n",
              "    <tr style=\"text-align: right;\">\n",
              "      <th></th>\n",
              "      <th>Size</th>\n",
              "      <th>Temperature</th>\n",
              "      <th>Fuel_Price</th>\n",
              "      <th>CPI</th>\n",
              "      <th>Unemployment</th>\n",
              "      <th>IsHoliday</th>\n",
              "      <th>Prev_week_sales</th>\n",
              "      <th>month</th>\n",
              "      <th>week</th>\n",
              "      <th>B</th>\n",
              "      <th>C</th>\n",
              "    </tr>\n",
              "  </thead>\n",
              "  <tbody>\n",
              "    <tr>\n",
              "      <th>1</th>\n",
              "      <td>0.333178</td>\n",
              "      <td>0.937095</td>\n",
              "      <td>0.310246</td>\n",
              "      <td>1.274912</td>\n",
              "      <td>-0.456390</td>\n",
              "      <td>0</td>\n",
              "      <td>0.793850</td>\n",
              "      <td>1</td>\n",
              "      <td>1</td>\n",
              "      <td>0</td>\n",
              "      <td>0</td>\n",
              "    </tr>\n",
              "    <tr>\n",
              "      <th>2</th>\n",
              "      <td>0.333178</td>\n",
              "      <td>1.349100</td>\n",
              "      <td>0.360350</td>\n",
              "      <td>1.108151</td>\n",
              "      <td>-0.019829</td>\n",
              "      <td>0</td>\n",
              "      <td>1.023146</td>\n",
              "      <td>1</td>\n",
              "      <td>1</td>\n",
              "      <td>0</td>\n",
              "      <td>0</td>\n",
              "    </tr>\n",
              "    <tr>\n",
              "      <th>3</th>\n",
              "      <td>0.333178</td>\n",
              "      <td>0.608575</td>\n",
              "      <td>-1.645964</td>\n",
              "      <td>1.018911</td>\n",
              "      <td>-0.085926</td>\n",
              "      <td>0</td>\n",
              "      <td>0.782286</td>\n",
              "      <td>1</td>\n",
              "      <td>1</td>\n",
              "      <td>0</td>\n",
              "      <td>0</td>\n",
              "    </tr>\n",
              "    <tr>\n",
              "      <th>4</th>\n",
              "      <td>0.333178</td>\n",
              "      <td>0.016046</td>\n",
              "      <td>0.591261</td>\n",
              "      <td>1.252065</td>\n",
              "      <td>-0.347117</td>\n",
              "      <td>0</td>\n",
              "      <td>0.719903</td>\n",
              "      <td>2</td>\n",
              "      <td>0</td>\n",
              "      <td>0</td>\n",
              "      <td>0</td>\n",
              "    </tr>\n",
              "  </tbody>\n",
              "</table>\n",
              "</div>"
            ],
            "text/plain": [
              "       Size  Temperature  Fuel_Price       CPI  ...  month  week  B  C\n",
              "1  0.333178     0.937095    0.310246  1.274912  ...      1     1  0  0\n",
              "2  0.333178     1.349100    0.360350  1.108151  ...      1     1  0  0\n",
              "3  0.333178     0.608575   -1.645964  1.018911  ...      1     1  0  0\n",
              "4  0.333178     0.016046    0.591261  1.252065  ...      2     0  0  0\n",
              "\n",
              "[4 rows x 11 columns]"
            ]
          },
          "metadata": {
            "tags": []
          },
          "execution_count": 104
        }
      ]
    },
    {
      "cell_type": "code",
      "metadata": {
        "colab": {
          "base_uri": "https://localhost:8080/"
        },
        "id": "Xg6mwWaj0fir",
        "outputId": "c53b78b1-816d-468c-aae8-47765b376871"
      },
      "source": [
        "Y.head(3) #the top 4 entries of the target variable Y dataset"
      ],
      "execution_count": null,
      "outputs": [
        {
          "output_type": "execute_result",
          "data": {
            "text/plain": [
              "1    1.023388\n",
              "2    0.782524\n",
              "3    0.720139\n",
              "Name: Total_Weekly_Sales, dtype: float64"
            ]
          },
          "metadata": {
            "tags": []
          },
          "execution_count": 105
        }
      ]
    },
    {
      "cell_type": "code",
      "metadata": {
        "id": "oeWyTqvRLmeb",
        "colab": {
          "base_uri": "https://localhost:8080/"
        },
        "outputId": "cc30ff18-4b81-4e7e-8b5b-9e05f0f5aaf8"
      },
      "source": [
        "#Splitting X and Y into training, validation and test sets in 70:15:15 ratio\n",
        "\n",
        "from sklearn.model_selection import train_test_split\n",
        "# Defines ratios, w.r.t. whole dataset.\n",
        "ratio_train = 0.7\n",
        "ratio_val = 0.15\n",
        "ratio_test = 0.15\n",
        "\n",
        "# Produces test split.\n",
        "X_remaining, X_test, Y_remaining, Y_test = train_test_split(\n",
        "    X, Y, test_size=ratio_test)\n",
        "\n",
        "# Adjusts val ratio, w.r.t. remaining dataset.\n",
        "ratio_remaining = 1 - ratio_test\n",
        "ratio_val_adjusted = ratio_val / ratio_remaining\n",
        "\n",
        "# Produces train and val splits.\n",
        "X_train, X_val, Y_train, Y_val = train_test_split(\n",
        "    X_remaining, Y_remaining, test_size=ratio_val_adjusted)\n",
        "\n",
        "print(X_train.shape)\n",
        "print(Y_train.shape)\n",
        "print(X_val.shape)\n",
        "print(Y_val.shape)\n",
        "print(X_test.shape)\n",
        "print(Y_test.shape)"
      ],
      "execution_count": null,
      "outputs": [
        {
          "output_type": "stream",
          "text": [
            "(4503, 11)\n",
            "(4503,)\n",
            "(965, 11)\n",
            "(965,)\n",
            "(966, 11)\n",
            "(966,)\n"
          ],
          "name": "stdout"
        }
      ]
    },
    {
      "cell_type": "code",
      "metadata": {
        "id": "RKrkSHC55TBF"
      },
      "source": [
        "from sklearn.model_selection import RandomizedSearchCV, RepeatedKFold, GridSearchCV #importing the required for hyperparameter tuning"
      ],
      "execution_count": null,
      "outputs": []
    },
    {
      "cell_type": "markdown",
      "metadata": {
        "id": "0m8QuzOo1wri"
      },
      "source": [
        "###Random Forest Regressor"
      ]
    },
    {
      "cell_type": "code",
      "metadata": {
        "id": "r6y8pxU51Doo"
      },
      "source": [
        "from sklearn.ensemble import RandomForestRegressor\r\n",
        "rfr=RandomForestRegressor()\r\n",
        "s={}\r\n",
        "s['n_estimators']=[100,200,300]\r\n",
        "s['max_depth']=np.arange(5,10)\r\n",
        "s['max_features']= ['sqrt','log2']\r\n",
        "s['min_samples_leaf']= np.arange(2,7)\r\n",
        "s['criterion']=['mse','mae']\r\n",
        "crossval=RepeatedKFold(n_splits= 5, n_repeats= 1)\r\n",
        "\r\n",
        "find= RandomizedSearchCV(rfr, s, cv=crossval, n_jobs=-1, scoring='r2'\\\r\n",
        "                           , n_iter=45, random_state=2)\r\n",
        "\r\n",
        "result= find.fit(X_train, Y_train)"
      ],
      "execution_count": null,
      "outputs": []
    },
    {
      "cell_type": "code",
      "metadata": {
        "colab": {
          "base_uri": "https://localhost:8080/"
        },
        "id": "F7zylIti7lA_",
        "outputId": "2b10b216-0d85-4253-dc6f-bc59edb7b063"
      },
      "source": [
        "result.best_params_ #the best hyperparameters after tuning"
      ],
      "execution_count": null,
      "outputs": [
        {
          "output_type": "execute_result",
          "data": {
            "text/plain": [
              "{'criterion': 'mse',\n",
              " 'max_depth': 9,\n",
              " 'max_features': 'log2',\n",
              " 'min_samples_leaf': 3,\n",
              " 'n_estimators': 300}"
            ]
          },
          "metadata": {
            "tags": []
          },
          "execution_count": 172
        }
      ]
    },
    {
      "cell_type": "code",
      "metadata": {
        "id": "lKRwrclKDosw",
        "colab": {
          "base_uri": "https://localhost:8080/"
        },
        "outputId": "1918ae51-3b05-4ea8-b663-44f362de4530"
      },
      "source": [
        "from sklearn.metrics import r2_score, mean_squared_error\r\n",
        "model_rfr=RandomForestRegressor(n_estimators=300,criterion='mse',max_depth=9,min_samples_leaf=3,max_features='log2') #using the best hyperparameters \r\n",
        "model_rfr.fit(X_train,Y_train)\r\n",
        "Y_pred=model_rfr.predict(X_val)\r\n",
        "\r\n",
        "print(f\"Coefficient of determination for Validation Set- {r2_score(Y_val,Y_pred)}\")\r\n",
        "print(f\"Mean Square Error for Validation Ser- {mean_squared_error(Y_val,Y_pred)}\")"
      ],
      "execution_count": null,
      "outputs": [
        {
          "output_type": "stream",
          "text": [
            "Coefficient of determination for Validation Set- 0.9218808142481352\n",
            "Mean Square Error for Validation Ser- 0.07375261316580636\n"
          ],
          "name": "stdout"
        }
      ]
    },
    {
      "cell_type": "markdown",
      "metadata": {
        "id": "0Tayunin97FF"
      },
      "source": [
        "##Ridge Regression"
      ]
    },
    {
      "cell_type": "code",
      "metadata": {
        "id": "KVKTclkD7Bmq"
      },
      "source": [
        "from sklearn.linear_model import Ridge\n",
        "\n",
        "RR = Ridge()\n",
        "\n",
        "hyperparameter_gridRR={}\n",
        "hyperparameter_gridRR['alpha']=[100,10,0, 1,0.1, 0.01,0.001]\n",
        "\n",
        "crossval=RepeatedKFold(n_splits= 5, n_repeats= 1)\n",
        "\n",
        "find = GridSearchCV(RR, hyperparameter_gridRR, cv=crossval)\n",
        "\n",
        "result= find.fit(X_train, Y_train)"
      ],
      "execution_count": null,
      "outputs": []
    },
    {
      "cell_type": "code",
      "metadata": {
        "colab": {
          "base_uri": "https://localhost:8080/"
        },
        "id": "FzgjBRDE99pR",
        "outputId": "55309d93-99f7-4ce7-86cd-410f0b9e7032"
      },
      "source": [
        "result.best_params_ #the best hyperparameters after tuning"
      ],
      "execution_count": null,
      "outputs": [
        {
          "output_type": "execute_result",
          "data": {
            "text/plain": [
              "{'alpha': 10}"
            ]
          },
          "metadata": {
            "tags": []
          },
          "execution_count": 114
        }
      ]
    },
    {
      "cell_type": "code",
      "metadata": {
        "colab": {
          "base_uri": "https://localhost:8080/"
        },
        "id": "Jd87xe21-AZJ",
        "outputId": "9ebdb0f1-15ea-4b48-9d96-81dbce7cd8e9"
      },
      "source": [
        "model_RR=Ridge(alpha=10)#using the best hyperparameters\n",
        "model_RR.fit(X_train,Y_train)\n",
        "Y_pred=model_RR.predict(X_val)\n",
        "\n",
        "print(f\"Coefficient of determination for Validation Set- {r2_score(Y_val,Y_pred)}\")\n",
        "print(f\"Mean Square Error for Validation Set- {mean_squared_error(Y_val,Y_pred)}\")"
      ],
      "execution_count": null,
      "outputs": [
        {
          "output_type": "stream",
          "text": [
            "Coefficient of determination for Validation Set- 0.8371815128571186\n",
            "Mean Square Error for Validation Set- 0.17781348329269878\n"
          ],
          "name": "stdout"
        }
      ]
    },
    {
      "cell_type": "markdown",
      "metadata": {
        "id": "fJDdQDA6-mqZ"
      },
      "source": [
        "##Support Vector Machine (SVM-R)"
      ]
    },
    {
      "cell_type": "code",
      "metadata": {
        "id": "L9KdLSr-GCuV"
      },
      "source": [
        "from sklearn.svm import SVR\r\n",
        "svm_reg=SVR()\r\n",
        "sample={}\r\n",
        "sample['C']=np.arange(1,10,2)\r\n",
        "sample['epsilon']=np.arange(0.01,0.2,0.02)\r\n",
        "\r\n",
        "crossval=RepeatedKFold(n_splits= 5, n_repeats= 1)\r\n",
        "\r\n",
        "find= RandomizedSearchCV(svm_reg, sample, cv=crossval, n_jobs=-1, scoring='r2'\\\r\n",
        "                           , n_iter=45, random_state=2)\r\n",
        "\r\n",
        "result= find.fit(X_train, Y_train)"
      ],
      "execution_count": null,
      "outputs": []
    },
    {
      "cell_type": "code",
      "metadata": {
        "colab": {
          "base_uri": "https://localhost:8080/"
        },
        "id": "C7Q8_WMxQVpj",
        "outputId": "262bf657-b388-4e46-df3c-6b0e19ec84a6"
      },
      "source": [
        "result.best_params_ #the best hyperparameters after tuning"
      ],
      "execution_count": null,
      "outputs": [
        {
          "output_type": "execute_result",
          "data": {
            "text/plain": [
              "{'C': 9, 'epsilon': 0.15}"
            ]
          },
          "metadata": {
            "tags": []
          },
          "execution_count": 28
        }
      ]
    },
    {
      "cell_type": "code",
      "metadata": {
        "colab": {
          "base_uri": "https://localhost:8080/"
        },
        "id": "l0Wz_WSPQfId",
        "outputId": "ef8fce1c-db42-4013-b4af-272e4b36949a"
      },
      "source": [
        "from sklearn.metrics import r2_score, mean_squared_error\r\n",
        "model_svr=SVR(C=9,epsilon=0.15) #using the best hyperparameters\r\n",
        "model_svr.fit(X_train,Y_train)\r\n",
        "Y_pred=model_svr.predict(X_val)\r\n",
        "\r\n",
        "print(f\"Coefficient of determination for Validation Set- {r2_score(Y_val,Y_pred)}\")\r\n",
        "print(f\"Mean Square Error for Validation Set- {mean_squared_error(Y_val,Y_pred)}\")"
      ],
      "execution_count": null,
      "outputs": [
        {
          "output_type": "stream",
          "text": [
            "Coefficient of determination for Validation Set- 0.9099669885802577\n",
            "Mean Square Error for Validation Set- 0.08786674007267384\n"
          ],
          "name": "stdout"
        }
      ]
    },
    {
      "cell_type": "markdown",
      "metadata": {
        "id": "v6jXbzf1MQqs"
      },
      "source": [
        "##Testing the best performing model"
      ]
    },
    {
      "cell_type": "markdown",
      "metadata": {
        "id": "Nx7jgm19NSbY"
      },
      "source": [
        "From the above three models tested on validation sets, we observe the mean square error to be least and coeffecient of determination to be highest for Random forest regressor as compared to models using ridge regression and SVM-R. Concluding that it would give the most accurate predictions, using that model it is now tested on the test set to obtain final values of metrics of performances. "
      ]
    },
    {
      "cell_type": "code",
      "metadata": {
        "colab": {
          "base_uri": "https://localhost:8080/"
        },
        "id": "ed2vK8MGMy7Y",
        "outputId": "3e39fa01-0c64-4f8c-96c3-364d72b3871d"
      },
      "source": [
        "from sklearn.metrics import r2_score, mean_squared_error\n",
        "from sklearn.ensemble import RandomForestRegressor\n",
        "model_rfr=RandomForestRegressor(n_estimators=300,criterion='mse',max_depth=9,min_samples_leaf=3,max_features='log2')\n",
        "model_rfr.fit(X_train,Y_train)\n",
        "Y_pred=model_rfr.predict(X_test)\n",
        "\n",
        "print(f\"Coefficient of determination for Test Set- {r2_score(Y_test,Y_pred)}\")\n",
        "print(f\"Mean Square Error for Test Set- {mean_squared_error(Y_test,Y_pred)}\")"
      ],
      "execution_count": null,
      "outputs": [
        {
          "output_type": "stream",
          "text": [
            "Coefficient of determination for Test Set- 0.9410911381175502\n",
            "Mean Square Error for Test Set- 0.05847353469771061\n"
          ],
          "name": "stdout"
        }
      ]
    },
    {
      "cell_type": "markdown",
      "metadata": {
        "id": "1AuXeqn_N8Nu"
      },
      "source": [
        "Using Random Forest Regressor model we get a suffeciently accurate prediction of total weekly sales of a store with the metrics as above."
      ]
    }
  ]
}